{
 "cells": [
  {
   "cell_type": "code",
   "execution_count": 2,
   "id": "ea9f615f-1564-401f-9a74-8ac98f9bbeab",
   "metadata": {
    "id": "ea9f615f-1564-401f-9a74-8ac98f9bbeab",
    "jupyter": {
     "outputs_hidden": true
    },
    "tags": []
   },
   "outputs": [
    {
     "name": "stdout",
     "output_type": "stream",
     "text": [
      "cuda\n"
     ]
    }
   ],
   "source": [
    "import os\n",
    "# os.environ[\"CUDA_DEVICE_ORDER\"] = \"PCI_BUS_ID\"\n",
    "# os.environ[\"CUDA_VISIBLE_DEVICES\"] = \"1\"\n",
    "\n",
    "import pickle\n",
    "from glob import glob\n",
    "import numpy as np\n",
    "import torch\n",
    "import torch.nn as nn\n",
    "import pandas as pd\n",
    "import time\n",
    "from tqdm import tqdm\n",
    "import matplotlib.pyplot as plt\n",
    "\n",
    "device = torch.device(\"cuda\" if torch.cuda.is_available() else \"cpu\")\n",
    "print(device)"
   ]
  },
  {
   "cell_type": "code",
   "execution_count": 3,
   "id": "8845100d",
   "metadata": {},
   "outputs": [
    {
     "name": "stdout",
     "output_type": "stream",
     "text": [
      "GPU is available\n"
     ]
    }
   ],
   "source": [
    "# torch.cuda.is_available() checks and returns a Boolean True if a GPU is available, else it'll return False\n",
    "is_cuda = torch.cuda.is_available()\n",
    "\n",
    "# If we have a GPU available, we'll set our device to GPU. We'll use this device variable later in our code.\n",
    "if is_cuda:\n",
    "    device = torch.device(\"cuda\")\n",
    "    print(\"GPU is available\")\n",
    "else:\n",
    "    device = torch.device(\"cpu\")\n",
    "    print(\"GPU not available, CPU used\")\n",
    "    "
   ]
  },
  {
   "cell_type": "code",
   "execution_count": 15,
   "id": "66dfe9c6",
   "metadata": {},
   "outputs": [],
   "source": [
    "train_path = \"./train/train\"\n",
    "# The glob module finds all the pathnames matching a specified pattern\n",
    "train_pkl_lst = glob(os.path.join(train_path, '*'))\n",
    "with open(train_pkl_lst[1], 'rb') as f:\n",
    "    training_sample = pickle.load(f)"
   ]
  },
  {
   "cell_type": "markdown",
   "id": "f44b0f51-0779-49dc-bcab-5c284039d6fd",
   "metadata": {
    "id": "f44b0f51-0779-49dc-bcab-5c284039d6fd"
   },
   "source": [
    "# LSTM"
   ]
  },
  {
   "cell_type": "code",
   "execution_count": 146,
   "id": "68fac99f-9f5e-4fb5-ba6c-e22cc6f8f8be",
   "metadata": {
    "id": "68fac99f-9f5e-4fb5-ba6c-e22cc6f8f8be"
   },
   "outputs": [],
   "source": [
    "class MyLSTM(nn.Module):\n",
    "    def __init__(self, input_size, output_size, hidden_dim, n_layers):\n",
    "        super(MyLSTM, self).__init__()\n",
    "\n",
    "        # Defining some parameters\n",
    "        self.hidden_dim = hidden_dim\n",
    "        self.n_layers = n_layers\n",
    "\n",
    "        #Defining the layers\n",
    "        # RNN Layer\n",
    "        self.lstm = nn.LSTM(input_size, hidden_dim, n_layers, batch_first=True)   \n",
    "        # Fully connected layer\n",
    "        self.fc = nn.Linear(hidden_dim, output_size)\n",
    "    \n",
    "    def forward(self, x):\n",
    "        \n",
    "        batch_size = x.size(0)\n",
    "\n",
    "        #Initializing hidden state for first input using method defined below\n",
    "        h_t, c_t = self.init_hidden(batch_size)\n",
    "\n",
    "        #print(x.size())\n",
    "        #print(x.size(-1))\n",
    "        # Passing in the input and hidden state into the model and obtaining outputs\n",
    "        out, (h_t, c_t) = self.lstm(x, (h_t, c_t))\n",
    "        \n",
    "        \n",
    "        # Reshaping the outputs such that it can be fit into the fully connected layer\n",
    "        out = out.contiguous().view(-1, self.hidden_dim)\n",
    "        out = self.fc(out)\n",
    "        \n",
    "        return out, h_t\n",
    "    \n",
    "    def init_hidden(self, batch_size):\n",
    "        # This method generates the first hidden state of zeros which we'll use in the forward pass\n",
    "        h_0 = torch.zeros(self.n_layers, batch_size, self.hidden_dim).to(device)\n",
    "        c_0 =  torch.zeros(self.n_layers, batch_size, self.hidden_dim).to(device)       \n",
    "         # We'll send the tensor holding the hidden state to the device we specified earlier as well\n",
    "        return h_0, c_0"
   ]
  },
  {
   "cell_type": "code",
   "execution_count": 3,
   "id": "43901b7a-983c-49ca-b02a-e22d812f3cab",
   "metadata": {
    "id": "43901b7a-983c-49ca-b02a-e22d812f3cab"
   },
   "outputs": [],
   "source": [
    "# Autogressive vs. direct mapping\n",
    "# Batch Norm? "
   ]
  },
  {
   "cell_type": "markdown",
   "id": "1c020112-bb96-45d0-abf4-332956e8e544",
   "metadata": {
    "id": "1c020112-bb96-45d0-abf4-332956e8e544"
   },
   "source": [
    "# Dataset"
   ]
  },
  {
   "cell_type": "code",
   "execution_count": 147,
   "id": "cc5190e9-67a3-4e83-af0c-2f79f9cab867",
   "metadata": {
    "id": "cc5190e9-67a3-4e83-af0c-2f79f9cab867"
   },
   "outputs": [],
   "source": [
    "class ArgoverseDataset(torch.utils.data.Dataset):\n",
    "    \"\"\"Dataset class for Argoverse\"\"\"\n",
    "    \n",
    "    def __init__(self, \n",
    "                 data_path,\n",
    "                 sample_indices):\n",
    "        super(ArgoverseDataset, self).__init__()\n",
    "        \n",
    "        self.data_path = data_path\n",
    "        self.sample_indices = sample_indices\n",
    "        self.pkl_list = glob(os.path.join(self.data_path, '*'))\n",
    "        self.pkl_list.sort()\n",
    "        \n",
    "    def __len__(self):\n",
    "        return len(self.sample_indices)\n",
    "\n",
    "    def __getitem__(self, idx):\n",
    "        \n",
    "        # Load one scene\n",
    "        pkl_path = self.pkl_list[self.sample_indices[idx]]\n",
    "        with open(pkl_path, 'rb') as f:\n",
    "            scene = pickle.load(f)\n",
    "            \n",
    "        # the index of agent to be predicted \n",
    "        pred_id = np.where(scene[\"track_id\"] == scene['agent_id'])[0][0]\n",
    "        \n",
    "        # input: p_in & v_in; output: p_out\n",
    "        inp_scene = np.dstack([scene['p_in'], scene['v_in']])\n",
    "        out_scene = np.dstack([scene['p_out'], scene['v_out']])\n",
    "        \n",
    "        # Normalization \n",
    "        min_vecs = np.min(inp_scene, axis = (0,1))\n",
    "        max_vecs = np.max(inp_scene, axis = (0,1))\n",
    "        \n",
    "        # Normalize by vectors\n",
    "        inp = (inp_scene[pred_id] - min_vecs)/(max_vecs - min_vecs)\n",
    "        out = (out_scene[pred_id] - min_vecs)/(max_vecs - min_vecs)\n",
    "        \n",
    "        dat = np.concatenate((inp, out), axis=0)\n",
    "        \n",
    "        train_data = []\n",
    "        window_size = 7\n",
    "        interval = 7\n",
    "        for i in range(0, len(dat), interval):\n",
    "            #print(len(dat[i:i+input_length]))\n",
    "            train_data.append(dat[i:i+window_size])\n",
    "            \n",
    "        #print(len(train_data))\n",
    "        #print(train_data)\n",
    "        \n",
    "        input_seq = []\n",
    "        target_seq = []\n",
    "        for i in range(len(train_data)):\n",
    "            input_seq.append(train_data[i][:-1])\n",
    "            target_seq.append(train_data[i][1:])\n",
    "        \n",
    "        #print(input_seq)\n",
    "        \n",
    "        input_seq = np.array(input_seq, dtype=np.float32)\n",
    "        target_seq = np.array(target_seq, dtype=np.float32)\n",
    "        \n",
    "        #print(input_seq.shape)\n",
    "        #print(target_seq.shape)\n",
    "        \n",
    "        # Convert to float torch tensor\n",
    "        #return torch.from_numpy(inp).float(), torch.from_numpy(out).float() #torch.from_numpy(out[:,:2]).float()\n",
    "        return torch.from_numpy(input_seq).float(), torch.from_numpy(target_seq).float()"
   ]
  },
  {
   "cell_type": "code",
   "execution_count": 46,
   "id": "ef927868",
   "metadata": {},
   "outputs": [
    {
     "data": {
      "text/plain": [
       "(60, 30, 2)"
      ]
     },
     "execution_count": 46,
     "metadata": {},
     "output_type": "execute_result"
    }
   ],
   "source": [
    "training_sample['p_out'].shape"
   ]
  },
  {
   "cell_type": "code",
   "execution_count": 47,
   "id": "387750dd",
   "metadata": {},
   "outputs": [
    {
     "data": {
      "text/plain": [
       "(60, 30, 2)"
      ]
     },
     "execution_count": 47,
     "metadata": {},
     "output_type": "execute_result"
    }
   ],
   "source": [
    "training_sample['v_out'].shape"
   ]
  },
  {
   "cell_type": "code",
   "execution_count": 5,
   "id": "16e5f5c2-86ff-4a6b-a585-117d0d08b8b2",
   "metadata": {
    "id": "16e5f5c2-86ff-4a6b-a585-117d0d08b8b2"
   },
   "outputs": [],
   "source": [
    "# Try different ways of normalization\n",
    "# Leverage other features. "
   ]
  },
  {
   "cell_type": "markdown",
   "id": "c13ae604-526c-4fff-a672-f09cd103f7c2",
   "metadata": {
    "id": "c13ae604-526c-4fff-a672-f09cd103f7c2"
   },
   "source": [
    "# Hyperparameter"
   ]
  },
  {
   "cell_type": "code",
   "execution_count": 6,
   "id": "913d832f-4050-4c23-9d74-114595112f13",
   "metadata": {
    "id": "913d832f-4050-4c23-9d74-114595112f13"
   },
   "outputs": [],
   "source": [
    "# Grid/Random Search"
   ]
  },
  {
   "cell_type": "code",
   "execution_count": 145,
   "id": "29e5c051-43a7-4bfd-9ab0-7105693661d3",
   "metadata": {
    "id": "29e5c051-43a7-4bfd-9ab0-7105693661d3"
   },
   "outputs": [],
   "source": [
    "# batch_size = 64\n",
    "window_size = 7 # number of timesteps to take as input\n",
    "batch_size = 512\n",
    "in_dim = window_size #19*4\n",
    "out_dim = 1*4 #30*2\n",
    "hidden_dim = 32 #128\n",
    "num_layers = 3\n",
    "learning_rate = 0.01\n",
    "decay_rate = 0.95\n",
    "num_epoch = 1000"
   ]
  },
  {
   "cell_type": "markdown",
   "id": "fb7aa146-1618-4fc2-aec1-2724a09c8bd0",
   "metadata": {
    "id": "fb7aa146-1618-4fc2-aec1-2724a09c8bd0"
   },
   "source": [
    "# Data Loader"
   ]
  },
  {
   "cell_type": "code",
   "execution_count": 144,
   "id": "d589c9c9-c46b-4b70-a515-90dd68669431",
   "metadata": {
    "colab": {
     "base_uri": "https://localhost:8080/"
    },
    "id": "d589c9c9-c46b-4b70-a515-90dd68669431",
    "outputId": "34773f5c-9441-4dd7-903b-970cb0e59e99"
   },
   "outputs": [],
   "source": [
    "train_path = \"./train/train\"\n",
    "\n",
    "# total number of scenes\n",
    "indices = np.arange(0, 205942)\n",
    "\n",
    "# train-valid split\n",
    "np.random.shuffle(indices)\n",
    "train_indices = indices[:180000]\n",
    "valid_indices = indices[180000:]\n",
    "\n",
    "# define datasets\n",
    "train_set = ArgoverseDataset(train_path, train_indices)\n",
    "valid_set = ArgoverseDataset(train_path, valid_indices)\n",
    "\n",
    "# create dataloaders\n",
    "train_loader = torch.utils.data.DataLoader(train_set, batch_size=batch_size, shuffle=True, num_workers=0)\n",
    "valid_loader = torch.utils.data.DataLoader(valid_set, batch_size=batch_size, shuffle=False, num_workers=0)"
   ]
  },
  {
   "cell_type": "code",
   "execution_count": 53,
   "id": "80e30ae3",
   "metadata": {},
   "outputs": [
    {
     "data": {
      "text/plain": [
       "180000"
      ]
     },
     "execution_count": 53,
     "metadata": {},
     "output_type": "execute_result"
    }
   ],
   "source": [
    "len(train_set)"
   ]
  },
  {
   "cell_type": "code",
   "execution_count": 80,
   "id": "51fa86aa",
   "metadata": {
    "scrolled": false
   },
   "outputs": [],
   "source": [
    "# train_set[0]"
   ]
  },
  {
   "cell_type": "code",
   "execution_count": 81,
   "id": "4610ccd9",
   "metadata": {},
   "outputs": [
    {
     "data": {
      "text/plain": [
       "352"
      ]
     },
     "execution_count": 81,
     "metadata": {},
     "output_type": "execute_result"
    }
   ],
   "source": [
    "len(train_loader)"
   ]
  },
  {
   "cell_type": "markdown",
   "id": "6d9c45bc-bdf3-4b5a-82b0-c0752c16cd2b",
   "metadata": {
    "id": "6d9c45bc-bdf3-4b5a-82b0-c0752c16cd2b"
   },
   "source": [
    "# Model, Loss Function and Optimizer"
   ]
  },
  {
   "cell_type": "code",
   "execution_count": 143,
   "id": "8c3cc020-8055-4005-ba6b-585a2e7a5fee",
   "metadata": {
    "id": "8c3cc020-8055-4005-ba6b-585a2e7a5fee"
   },
   "outputs": [],
   "source": [
    "# # RNN, LSTM, 1dCNN, Transformer\n",
    "# model = MLPNet(in_dim = in_dim, \n",
    "#                out_dim = out_dim,\n",
    "#                hidden_dim = hidden_dim, \n",
    "#                num_layers = num_layers).to(device) # move model to gpu \n",
    "\n",
    "model = MyLSTM(input_size=4, output_size=out_dim, hidden_dim=hidden_dim, n_layers=1).to(device)\n",
    "\n",
    "# Adaptive Moment Estimation computes adaptive learning rates for each parameter. \n",
    "# Compute the decaying averages of past and past squared gradients. \n",
    "\n",
    "optimizer = torch.optim.Adam(model.parameters(), lr=learning_rate)\n",
    "scheduler = torch.optim.lr_scheduler.StepLR(optimizer, step_size=1, gamma=decay_rate)  # stepwise learning rate decay\n",
    "loss_fun = nn.MSELoss()"
   ]
  },
  {
   "cell_type": "code",
   "execution_count": 9,
   "id": "176e40ac",
   "metadata": {},
   "outputs": [
    {
     "data": {
      "text/plain": [
       "<All keys matched successfully>"
      ]
     },
     "execution_count": 9,
     "metadata": {},
     "output_type": "execute_result"
    }
   ],
   "source": [
    "model.load_state_dict(torch.load('baseline.pt'))"
   ]
  },
  {
   "cell_type": "code",
   "execution_count": 118,
   "id": "09549dff",
   "metadata": {},
   "outputs": [],
   "source": [
    "# train_path = \"./train/train/\"\n",
    "# train_pkl_list = glob(os.path.join(train_path, '*'))\n",
    "# train_pkl_list.sort()\n",
    "\n",
    "# train_preds = []\n",
    "# for idx in range(3):\n",
    "#     with open(train_pkl_list[idx], 'rb') as f:\n",
    "#         train_sample = pickle.load(f)\n",
    "#         pred_id = np.where(train_sample[\"track_id\"] == train_sample['agent_id'])[0][0]\n",
    "#         inp_scene = np.dstack([train_sample['p_in'], train_sample['v_in']])\n",
    "\n",
    "#         # Normalization \n",
    "#         min_vecs = np.min(inp_scene, axis = (0,1))\n",
    "#         max_vecs = np.max(inp_scene, axis = (0,1))\n",
    "        \n",
    "#         inp = (inp_scene[pred_id] - min_vecs)/(max_vecs - min_vecs)\n",
    "        \n",
    "#         inp = torch.from_numpy(inp).float().to(device).unsqueeze(0)\n",
    "\n",
    "#         preds = model(inp).cpu().data.numpy()\n",
    "        \n",
    "#         # De-Normalization ! \n",
    "#         preds = preds * (max_vecs[:2] - min_vecs[:2]) +  min_vecs[:2]\n",
    "#         train_preds.append(preds)"
   ]
  },
  {
   "cell_type": "markdown",
   "id": "1c3392ee-eb57-4d8d-b6ea-49e6f38e3770",
   "metadata": {
    "id": "1c3392ee-eb57-4d8d-b6ea-49e6f38e3770"
   },
   "source": [
    "# Training"
   ]
  },
  {
   "cell_type": "code",
   "execution_count": 106,
   "id": "3b330351",
   "metadata": {},
   "outputs": [
    {
     "name": "stdout",
     "output_type": "stream",
     "text": [
      "torch.Size([512, 7, 6, 4])\n",
      "torch.Size([512, 7, 6, 4])\n",
      "torch.Size([3584, 6, 4])\n",
      "tensor([[0.9738, 0.9948, 0.0912, 0.5573],\n",
      "        [0.9745, 0.9952, 0.3257, 0.6081],\n",
      "        [0.9740, 0.9954, 0.0466, 0.4129],\n",
      "        [0.9739, 0.9958, 0.1310, 0.5424],\n",
      "        [0.9738, 0.9961, 0.1289, 0.5208],\n",
      "        [0.9738, 0.9964, 0.1795, 0.4579]])\n"
     ]
    }
   ],
   "source": [
    "for inp, tgt in train_loader:\n",
    "    print(inp.shape)\n",
    "    print(tgt.shape)\n",
    "    print(inp.view(-1, window_size-1, 4).size()) \n",
    "    print(inp[0, 0, :, :])\n",
    "    break\n",
    "        "
   ]
  },
  {
   "cell_type": "code",
   "execution_count": 142,
   "id": "fa3e350d-9fca-4356-84da-7412d86667c9",
   "metadata": {
    "id": "fa3e350d-9fca-4356-84da-7412d86667c9"
   },
   "outputs": [],
   "source": [
    "def train_epoch(train_loader, model, optimizer, loss_function):\n",
    "\n",
    "    train_mse = []\n",
    "    for inp, tgt in tqdm(train_loader):\n",
    "        \n",
    "        inp = inp.view(-1, window_size-1, 4)\n",
    "        tgt = tgt.view(-1, window_size-1, 4)\n",
    "        \n",
    "        #print(inp.size())\n",
    "        \n",
    "        inp = inp.to(device)\n",
    "        tgt = tgt.to(device)\n",
    "        \n",
    "        output, hidden = model(inp)\n",
    "        output = output.to(device)\n",
    "        #print(output.shape)\n",
    "        #print(hidden.shape)\n",
    "        #print(tgt.view(-1, 4).size())\n",
    "        \n",
    "        loss = loss_function(output, tgt.view(-1, 4))\n",
    "        train_mse.append(loss.item()) \n",
    "        \n",
    "        optimizer.zero_grad()\n",
    "        loss.backward()\n",
    "        optimizer.step()\n",
    "    \n",
    "    train_mse = round(np.sqrt(np.mean(train_mse)),5)\n",
    "    \n",
    "    return train_mse\n",
    "\n",
    "def eval_epoch(valid_loader, model, loss_function):\n",
    "    \n",
    "    valid_mse = []\n",
    "    #preds = []\n",
    "    #trues = []\n",
    "    \n",
    "    with torch.no_grad():\n",
    "        for inp, tgt in valid_loader:\n",
    "            \n",
    "            inp = inp.view(-1, window_size-1, 4)\n",
    "            tgt = tgt.view(-1, window_size-1, 4)\n",
    "            \n",
    "            inp = inp.to(device)\n",
    "            tgt = tgt.to(device)\n",
    "            \n",
    "            loss = 0\n",
    "            output, hidden = model(inp)\n",
    "            output = output.to(device)\n",
    "                    \n",
    "            loss = loss_function(output, tgt.view(-1, 4))\n",
    "            \n",
    "            #preds.append(pred.cpu().data.numpy())\n",
    "            #trues.append(tgt.cpu().data.numpy())\n",
    "            \n",
    "            valid_mse.append(loss.item())\n",
    "            \n",
    "        #preds = np.concatenate(preds, axis = 0)  \n",
    "        #trues = np.concatenate(trues, axis = 0)  \n",
    "        valid_mse = round(np.sqrt(np.mean(valid_mse)), 5)\n",
    "    return valid_mse#, preds, trues\n"
   ]
  },
  {
   "cell_type": "code",
   "execution_count": 14,
   "id": "f529da48-7092-4096-b95d-a3782e0a7590",
   "metadata": {
    "id": "f529da48-7092-4096-b95d-a3782e0a7590"
   },
   "outputs": [],
   "source": [
    "# Learning Rate Decay\n",
    "# Dropout\n",
    "# L1/L2 Regulization"
   ]
  },
  {
   "cell_type": "code",
   "execution_count": null,
   "id": "f5c15057-a83e-44b0-af97-cf28f3c98044",
   "metadata": {
    "colab": {
     "base_uri": "https://localhost:8080/",
     "height": 554
    },
    "id": "f5c15057-a83e-44b0-af97-cf28f3c98044",
    "outputId": "c23108e3-db6e-4d40-8242-42cf968e5c13",
    "scrolled": true
   },
   "outputs": [
    {
     "name": "stderr",
     "output_type": "stream",
     "text": [
      "  0%|          | 0/1000 [00:00<?, ?it/s]\n",
      "  0%|          | 0/352 [00:00<?, ?it/s]\u001b[A\n",
      "  0%|          | 1/352 [00:03<23:19,  3.99s/it]\u001b[A\n",
      "  1%|          | 2/352 [00:07<22:08,  3.79s/it]\u001b[A\n",
      "  1%|          | 3/352 [00:10<20:37,  3.55s/it]\u001b[A\n",
      "  1%|          | 4/352 [00:14<20:22,  3.51s/it]\u001b[A\n",
      "  1%|▏         | 5/352 [00:18<20:51,  3.61s/it]\u001b[A\n",
      "  2%|▏         | 6/352 [00:21<21:08,  3.67s/it]\u001b[A\n",
      "  2%|▏         | 7/352 [00:25<20:48,  3.62s/it]\u001b[A\n",
      "  2%|▏         | 8/352 [00:29<20:41,  3.61s/it]\u001b[A\n",
      "  3%|▎         | 9/352 [00:33<21:41,  3.79s/it]\u001b[A\n",
      "  3%|▎         | 10/352 [00:37<21:38,  3.80s/it]\u001b[A\n",
      "  3%|▎         | 11/352 [00:40<20:31,  3.61s/it]\u001b[A\n",
      "  3%|▎         | 12/352 [00:44<21:04,  3.72s/it]\u001b[A\n",
      "  4%|▎         | 13/352 [00:47<21:05,  3.73s/it]\u001b[A\n",
      "  4%|▍         | 14/352 [00:51<19:53,  3.53s/it]\u001b[A\n",
      "  4%|▍         | 15/352 [00:55<20:38,  3.67s/it]\u001b[A\n",
      "  5%|▍         | 16/352 [00:59<21:27,  3.83s/it]\u001b[A\n",
      "  5%|▍         | 17/352 [01:02<21:01,  3.77s/it]\u001b[A\n",
      "  5%|▌         | 18/352 [01:06<20:48,  3.74s/it]\u001b[A\n",
      "  5%|▌         | 19/352 [01:10<21:14,  3.83s/it]\u001b[A\n",
      "  6%|▌         | 20/352 [01:14<21:14,  3.84s/it]\u001b[A\n",
      "  6%|▌         | 21/352 [01:18<21:06,  3.83s/it]\u001b[A\n",
      "  6%|▋         | 22/352 [01:21<19:54,  3.62s/it]\u001b[A\n",
      "  7%|▋         | 23/352 [01:25<20:09,  3.68s/it]\u001b[A\n",
      "  7%|▋         | 24/352 [01:29<20:42,  3.79s/it]\u001b[A\n",
      "  7%|▋         | 25/352 [01:32<20:39,  3.79s/it]\u001b[A\n",
      "  7%|▋         | 26/352 [01:36<19:49,  3.65s/it]\u001b[A\n",
      "  8%|▊         | 27/352 [01:40<19:54,  3.68s/it]\u001b[A\n",
      "  8%|▊         | 28/352 [01:43<20:00,  3.71s/it]\u001b[A\n",
      "  8%|▊         | 29/352 [01:47<20:17,  3.77s/it]\u001b[A\n",
      "  9%|▊         | 30/352 [01:50<19:04,  3.56s/it]\u001b[A\n",
      "  9%|▉         | 31/352 [01:54<19:11,  3.59s/it]\u001b[A\n",
      "  9%|▉         | 32/352 [01:58<19:34,  3.67s/it]\u001b[A\n",
      "  9%|▉         | 33/352 [02:01<18:33,  3.49s/it]\u001b[A\n",
      " 10%|▉         | 34/352 [02:04<18:23,  3.47s/it]\u001b[A\n",
      " 10%|▉         | 35/352 [02:08<18:38,  3.53s/it]\u001b[A\n",
      " 10%|█         | 36/352 [02:11<18:26,  3.50s/it]\u001b[A\n",
      " 11%|█         | 37/352 [02:15<17:54,  3.41s/it]\u001b[A\n",
      " 11%|█         | 38/352 [02:18<18:11,  3.48s/it]\u001b[A\n",
      " 11%|█         | 39/352 [02:22<17:58,  3.44s/it]\u001b[A\n",
      " 11%|█▏        | 40/352 [02:25<17:09,  3.30s/it]\u001b[A\n",
      " 12%|█▏        | 41/352 [02:28<17:32,  3.39s/it]\u001b[A\n",
      " 12%|█▏        | 42/352 [02:31<17:15,  3.34s/it]\u001b[A\n",
      " 12%|█▏        | 43/352 [02:35<17:02,  3.31s/it]\u001b[A\n",
      " 12%|█▎        | 44/352 [02:38<17:50,  3.47s/it]\u001b[A\n",
      " 13%|█▎        | 45/352 [02:42<17:22,  3.40s/it]\u001b[A\n",
      " 13%|█▎        | 46/352 [02:45<16:57,  3.33s/it]\u001b[A\n",
      " 13%|█▎        | 47/352 [02:48<17:21,  3.41s/it]\u001b[A\n",
      " 14%|█▎        | 48/352 [02:52<17:03,  3.37s/it]\u001b[A\n",
      " 14%|█▍        | 49/352 [02:55<17:09,  3.40s/it]\u001b[A\n",
      " 14%|█▍        | 50/352 [02:59<17:57,  3.57s/it]\u001b[A\n",
      " 14%|█▍        | 51/352 [03:03<18:04,  3.60s/it]\u001b[A\n",
      " 15%|█▍        | 52/352 [03:06<17:18,  3.46s/it]\u001b[A\n",
      " 15%|█▌        | 53/352 [03:10<17:33,  3.52s/it]\u001b[A\n",
      " 15%|█▌        | 54/352 [03:13<17:54,  3.61s/it]\u001b[A\n",
      " 16%|█▌        | 55/352 [03:16<16:35,  3.35s/it]\u001b[A\n",
      " 16%|█▌        | 56/352 [03:20<16:53,  3.42s/it]\u001b[A\n",
      " 16%|█▌        | 57/352 [03:23<17:12,  3.50s/it]\u001b[A\n",
      " 16%|█▋        | 58/352 [03:27<16:28,  3.36s/it]\u001b[A\n",
      " 17%|█▋        | 59/352 [03:30<16:41,  3.42s/it]\u001b[A\n",
      " 17%|█▋        | 60/352 [03:34<16:56,  3.48s/it]\u001b[A\n",
      " 17%|█▋        | 61/352 [03:37<16:13,  3.35s/it]\u001b[A\n",
      " 18%|█▊        | 62/352 [03:41<16:47,  3.47s/it]\u001b[A\n",
      " 18%|█▊        | 63/352 [03:44<17:01,  3.54s/it]\u001b[A\n",
      " 18%|█▊        | 64/352 [03:48<16:39,  3.47s/it]\u001b[A\n",
      " 18%|█▊        | 65/352 [03:51<16:04,  3.36s/it]\u001b[A\n",
      " 19%|█▉        | 66/352 [03:54<16:08,  3.39s/it]\u001b[A\n",
      " 19%|█▉        | 67/352 [03:57<15:50,  3.33s/it]\u001b[A\n",
      " 19%|█▉        | 68/352 [04:00<15:34,  3.29s/it]\u001b[A\n",
      " 20%|█▉        | 69/352 [04:04<16:05,  3.41s/it]\u001b[A\n",
      " 20%|█▉        | 70/352 [04:07<15:30,  3.30s/it]\u001b[A\n",
      " 20%|██        | 71/352 [04:11<16:37,  3.55s/it]\u001b[A\n",
      " 20%|██        | 72/352 [04:15<17:06,  3.67s/it]\u001b[A\n",
      " 21%|██        | 73/352 [04:19<17:20,  3.73s/it]\u001b[A\n",
      " 21%|██        | 74/352 [04:23<16:47,  3.62s/it]\u001b[A\n",
      " 21%|██▏       | 75/352 [04:26<16:14,  3.52s/it]\u001b[A\n",
      " 22%|██▏       | 76/352 [04:29<16:21,  3.56s/it]\u001b[A\n",
      " 22%|██▏       | 77/352 [04:33<16:27,  3.59s/it]\u001b[A\n",
      " 22%|██▏       | 78/352 [04:36<15:29,  3.39s/it]\u001b[A\n",
      " 22%|██▏       | 79/352 [04:40<16:21,  3.59s/it]\u001b[A\n",
      " 23%|██▎       | 80/352 [04:44<16:56,  3.74s/it]\u001b[A\n",
      " 23%|██▎       | 81/352 [04:48<16:27,  3.64s/it]\u001b[A\n",
      " 23%|██▎       | 82/352 [04:51<15:43,  3.49s/it]\u001b[A\n",
      " 24%|██▎       | 83/352 [04:54<15:50,  3.53s/it]\u001b[A"
     ]
    }
   ],
   "source": [
    "train_rmse = []\n",
    "valid_rmse = []\n",
    "min_rmse = 10e8\n",
    "\n",
    "for i in tqdm(range(num_epoch)):\n",
    "    start = time.time()\n",
    "\n",
    "    model.train() # if you use dropout or batchnorm. \n",
    "    train_rmse.append(train_epoch(train_loader, model, optimizer, loss_fun))\n",
    "    #print(train_rmse)\n",
    "    \n",
    "    model.eval()\n",
    "    val_rmse, val_preds, val_trues = eval_epoch(valid_loader, model, loss_fun)\n",
    "    valid_rmse.append(val_rmse)\n",
    "\n",
    "    # save the best model\n",
    "    if valid_rmse[-1] < min_rmse:\n",
    "        min_rmse = valid_rmse[-1] \n",
    "        best_model = model\n",
    "        # torch.save([best_model, i, get_lr(optimizer)], name + \".pth\")\n",
    "\n",
    "    end = time.time()\n",
    "    \n",
    "    # Early Stopping\n",
    "    if (len(train_rmse) > 100 and np.mean(valid_rmse[-5:]) >= np.mean(valid_rmse[-10:-5])):\n",
    "            break       \n",
    "\n",
    "    # Learning Rate Decay        \n",
    "    scheduler.step()\n",
    "    \n",
    "    print(\"Epoch {} | T: {:0.2f} | Train RMSE: {:0.5f} | Valid RMSE: {:0.5f}\".format(i + 1, (end-start) / 60, train_rmse[-1], valid_rmse[-1]))\n",
    "\n",
    "# torch.save(model.state_dict(), 'baseline.pt')\n",
    "\n",
    "# plt.figure()\n",
    "# plt.plot(train_rmse)\n",
    "# plt.plot(valid_rmse)\n",
    "# plt.xlabel('epochs')\n",
    "# plt.ylabel('RSME loss')\n",
    "# plt.savefig('loss_curve.png')\n",
    "# plt.show()"
   ]
  },
  {
   "cell_type": "code",
   "execution_count": 24,
   "id": "ecaea6ec",
   "metadata": {},
   "outputs": [
    {
     "data": {
      "image/png": "[encoded data removed]",
      "text/plain": [
       "<Figure size 432x288 with 1 Axes>"
      ]
     },
     "metadata": {
      "needs_background": "light"
     },
     "output_type": "display_data"
    }
   ],
   "source": [
    "plt.figure()\n",
    "plt.plot(train_rmse)\n",
    "plt.plot(valid_rmse)\n",
    "plt.xlabel('epochs')\n",
    "plt.ylabel('RSME loss')\n",
    "plt.title('RMSE loss curve')\n",
    "plt.savefig('loss_curve_v1.png')\n",
    "plt.show()"
   ]
  },
  {
   "cell_type": "code",
   "execution_count": 25,
   "id": "11327225",
   "metadata": {},
   "outputs": [
    {
     "data": {
      "image/png": "[encoded data removed]",
      "text/plain": [
       "<Figure size 432x288 with 1 Axes>"
      ]
     },
     "metadata": {
      "needs_background": "light"
     },
     "output_type": "display_data"
    }
   ],
   "source": [
    "plt.figure()\n",
    "plt.plot(train_rmse[1:])\n",
    "plt.plot(valid_rmse[1:])\n",
    "plt.xlabel('epochs')\n",
    "plt.ylabel('RSME loss')\n",
    "plt.title('RMSE loss curve')\n",
    "plt.savefig('loss_curve_v2.png')\n",
    "plt.show()"
   ]
  },
  {
   "cell_type": "markdown",
   "id": "540da579-31a5-462c-826b-e8e1c1a2ddd9",
   "metadata": {
    "id": "540da579-31a5-462c-826b-e8e1c1a2ddd9"
   },
   "source": [
    "# Evaluation and Submission"
   ]
  },
  {
   "cell_type": "code",
   "execution_count": 16,
   "id": "66654867-c45e-4ad2-bdb4-ce1d546ea2d2",
   "metadata": {
    "id": "66654867-c45e-4ad2-bdb4-ce1d546ea2d2",
    "tags": []
   },
   "outputs": [],
   "source": [
    "test_path = \"./val_in/val_in/\"\n",
    "test_pkl_list = glob(os.path.join(test_path, '*'))\n",
    "test_pkl_list.sort()\n",
    "\n",
    "test_preds = []\n",
    "for idx in range(len(test_pkl_list)):\n",
    "    with open(test_pkl_list[idx], 'rb') as f:\n",
    "        test_sample = pickle.load(f)\n",
    "        pred_id = np.where(test_sample[\"track_id\"] == test_sample['agent_id'])[0][0]\n",
    "        inp_scene = np.dstack([test_sample['p_in'], test_sample['v_in']])\n",
    "\n",
    "        # Normalization \n",
    "        min_vecs = np.min(inp_scene, axis = (0,1))\n",
    "        max_vecs = np.max(inp_scene, axis = (0,1))\n",
    "        \n",
    "        inp = (inp_scene[pred_id] - min_vecs)/(max_vecs - min_vecs)\n",
    "        \n",
    "        inp = torch.from_numpy(inp).float().to(device).unsqueeze(0)\n",
    "\n",
    "        preds = best_model(inp).cpu().data.numpy()\n",
    "        \n",
    "        # De-Normalization ! \n",
    "        preds = preds * (max_vecs[:2] - min_vecs[:2]) +  min_vecs[:2]\n",
    "        test_preds.append(preds)"
   ]
  },
  {
   "cell_type": "markdown",
   "id": "f945f2f3-2b73-471f-91e5-87c63eb06a77",
   "metadata": {
    "id": "f945f2f3-2b73-471f-91e5-87c63eb06a77"
   },
   "source": [
    "# Generate Submission File"
   ]
  },
  {
   "cell_type": "code",
   "execution_count": 42,
   "id": "af9c27f8-a65b-48ce-861b-262c3f0422e6",
   "metadata": {
    "id": "af9c27f8-a65b-48ce-861b-262c3f0422e6"
   },
   "outputs": [],
   "source": [
    "# Submission Files\n",
    "sample_sub = pd.read_csv('sample_submission.csv')"
   ]
  },
  {
   "cell_type": "code",
   "execution_count": 43,
   "id": "f01524a4-5473-4c1f-9991-46fd62162e20",
   "metadata": {
    "id": "f01524a4-5473-4c1f-9991-46fd62162e20"
   },
   "outputs": [],
   "source": [
    "# Convert to int\n",
    "predictions = np.concatenate(test_preds).reshape(len(test_preds), -1).astype(int)\n",
    "sub_df = pd.DataFrame(np.c_[sample_sub[\"ID\"], predictions], columns=[np.r_[[\"ID\"], [\"v\" + str(i) for i in range(1, 61)]]])\n",
    "sub_df.to_csv('test_submission.csv', index=None)"
   ]
  },
  {
   "cell_type": "code",
   "execution_count": 44,
   "id": "282ca735",
   "metadata": {
    "scrolled": true
   },
   "outputs": [
    {
     "data": {
      "text/html": [
       "<div>\n",
       "<style scoped>\n",
       "    .dataframe tbody tr th:only-of-type {\n",
       "        vertical-align: middle;\n",
       "    }\n",
       "\n",
       "    .dataframe tbody tr th {\n",
       "        vertical-align: top;\n",
       "    }\n",
       "\n",
       "    .dataframe thead tr th {\n",
       "        text-align: left;\n",
       "    }\n",
       "</style>\n",
       "<table border=\"1\" class=\"dataframe\">\n",
       "  <thead>\n",
       "    <tr>\n",
       "      <th></th>\n",
       "      <th>ID</th>\n",
       "      <th>v1</th>\n",
       "      <th>v2</th>\n",
       "      <th>v3</th>\n",
       "      <th>v4</th>\n",
       "      <th>v5</th>\n",
       "      <th>v6</th>\n",
       "      <th>v7</th>\n",
       "      <th>v8</th>\n",
       "      <th>v9</th>\n",
       "      <th>...</th>\n",
       "      <th>v51</th>\n",
       "      <th>v52</th>\n",
       "      <th>v53</th>\n",
       "      <th>v54</th>\n",
       "      <th>v55</th>\n",
       "      <th>v56</th>\n",
       "      <th>v57</th>\n",
       "      <th>v58</th>\n",
       "      <th>v59</th>\n",
       "      <th>v60</th>\n",
       "    </tr>\n",
       "  </thead>\n",
       "  <tbody>\n",
       "    <tr>\n",
       "      <th>0</th>\n",
       "      <td>10002</td>\n",
       "      <td>1713</td>\n",
       "      <td>336</td>\n",
       "      <td>1715</td>\n",
       "      <td>337</td>\n",
       "      <td>1717</td>\n",
       "      <td>338</td>\n",
       "      <td>1716</td>\n",
       "      <td>339</td>\n",
       "      <td>1717</td>\n",
       "      <td>...</td>\n",
       "      <td>1739</td>\n",
       "      <td>359</td>\n",
       "      <td>1738</td>\n",
       "      <td>359</td>\n",
       "      <td>1740</td>\n",
       "      <td>360</td>\n",
       "      <td>1740</td>\n",
       "      <td>361</td>\n",
       "      <td>1743</td>\n",
       "      <td>361</td>\n",
       "    </tr>\n",
       "    <tr>\n",
       "      <th>1</th>\n",
       "      <td>10015</td>\n",
       "      <td>725</td>\n",
       "      <td>1229</td>\n",
       "      <td>725</td>\n",
       "      <td>1229</td>\n",
       "      <td>725</td>\n",
       "      <td>1229</td>\n",
       "      <td>725</td>\n",
       "      <td>1229</td>\n",
       "      <td>725</td>\n",
       "      <td>...</td>\n",
       "      <td>724</td>\n",
       "      <td>1227</td>\n",
       "      <td>724</td>\n",
       "      <td>1228</td>\n",
       "      <td>723</td>\n",
       "      <td>1227</td>\n",
       "      <td>723</td>\n",
       "      <td>1227</td>\n",
       "      <td>724</td>\n",
       "      <td>1227</td>\n",
       "    </tr>\n",
       "    <tr>\n",
       "      <th>2</th>\n",
       "      <td>10019</td>\n",
       "      <td>573</td>\n",
       "      <td>1245</td>\n",
       "      <td>574</td>\n",
       "      <td>1245</td>\n",
       "      <td>574</td>\n",
       "      <td>1245</td>\n",
       "      <td>574</td>\n",
       "      <td>1244</td>\n",
       "      <td>574</td>\n",
       "      <td>...</td>\n",
       "      <td>580</td>\n",
       "      <td>1242</td>\n",
       "      <td>580</td>\n",
       "      <td>1242</td>\n",
       "      <td>580</td>\n",
       "      <td>1242</td>\n",
       "      <td>580</td>\n",
       "      <td>1241</td>\n",
       "      <td>581</td>\n",
       "      <td>1242</td>\n",
       "    </tr>\n",
       "    <tr>\n",
       "      <th>3</th>\n",
       "      <td>10028</td>\n",
       "      <td>1691</td>\n",
       "      <td>315</td>\n",
       "      <td>1692</td>\n",
       "      <td>316</td>\n",
       "      <td>1692</td>\n",
       "      <td>316</td>\n",
       "      <td>1693</td>\n",
       "      <td>317</td>\n",
       "      <td>1694</td>\n",
       "      <td>...</td>\n",
       "      <td>1708</td>\n",
       "      <td>328</td>\n",
       "      <td>1708</td>\n",
       "      <td>328</td>\n",
       "      <td>1709</td>\n",
       "      <td>329</td>\n",
       "      <td>1710</td>\n",
       "      <td>329</td>\n",
       "      <td>1710</td>\n",
       "      <td>330</td>\n",
       "    </tr>\n",
       "    <tr>\n",
       "      <th>4</th>\n",
       "      <td>1003</td>\n",
       "      <td>2123</td>\n",
       "      <td>676</td>\n",
       "      <td>2120</td>\n",
       "      <td>676</td>\n",
       "      <td>2119</td>\n",
       "      <td>674</td>\n",
       "      <td>2118</td>\n",
       "      <td>673</td>\n",
       "      <td>2118</td>\n",
       "      <td>...</td>\n",
       "      <td>2092</td>\n",
       "      <td>650</td>\n",
       "      <td>2092</td>\n",
       "      <td>650</td>\n",
       "      <td>2090</td>\n",
       "      <td>649</td>\n",
       "      <td>2090</td>\n",
       "      <td>648</td>\n",
       "      <td>2087</td>\n",
       "      <td>647</td>\n",
       "    </tr>\n",
       "    <tr>\n",
       "      <th>...</th>\n",
       "      <td>...</td>\n",
       "      <td>...</td>\n",
       "      <td>...</td>\n",
       "      <td>...</td>\n",
       "      <td>...</td>\n",
       "      <td>...</td>\n",
       "      <td>...</td>\n",
       "      <td>...</td>\n",
       "      <td>...</td>\n",
       "      <td>...</td>\n",
       "      <td>...</td>\n",
       "      <td>...</td>\n",
       "      <td>...</td>\n",
       "      <td>...</td>\n",
       "      <td>...</td>\n",
       "      <td>...</td>\n",
       "      <td>...</td>\n",
       "      <td>...</td>\n",
       "      <td>...</td>\n",
       "      <td>...</td>\n",
       "      <td>...</td>\n",
       "    </tr>\n",
       "    <tr>\n",
       "      <th>3195</th>\n",
       "      <td>9897</td>\n",
       "      <td>256</td>\n",
       "      <td>805</td>\n",
       "      <td>256</td>\n",
       "      <td>805</td>\n",
       "      <td>256</td>\n",
       "      <td>805</td>\n",
       "      <td>257</td>\n",
       "      <td>805</td>\n",
       "      <td>257</td>\n",
       "      <td>...</td>\n",
       "      <td>262</td>\n",
       "      <td>801</td>\n",
       "      <td>263</td>\n",
       "      <td>801</td>\n",
       "      <td>263</td>\n",
       "      <td>801</td>\n",
       "      <td>263</td>\n",
       "      <td>800</td>\n",
       "      <td>263</td>\n",
       "      <td>800</td>\n",
       "    </tr>\n",
       "    <tr>\n",
       "      <th>3196</th>\n",
       "      <td>99</td>\n",
       "      <td>587</td>\n",
       "      <td>1154</td>\n",
       "      <td>587</td>\n",
       "      <td>1153</td>\n",
       "      <td>587</td>\n",
       "      <td>1153</td>\n",
       "      <td>587</td>\n",
       "      <td>1152</td>\n",
       "      <td>588</td>\n",
       "      <td>...</td>\n",
       "      <td>590</td>\n",
       "      <td>1139</td>\n",
       "      <td>589</td>\n",
       "      <td>1138</td>\n",
       "      <td>589</td>\n",
       "      <td>1137</td>\n",
       "      <td>589</td>\n",
       "      <td>1136</td>\n",
       "      <td>589</td>\n",
       "      <td>1136</td>\n",
       "    </tr>\n",
       "    <tr>\n",
       "      <th>3197</th>\n",
       "      <td>9905</td>\n",
       "      <td>1755</td>\n",
       "      <td>444</td>\n",
       "      <td>1755</td>\n",
       "      <td>444</td>\n",
       "      <td>1755</td>\n",
       "      <td>444</td>\n",
       "      <td>1755</td>\n",
       "      <td>445</td>\n",
       "      <td>1755</td>\n",
       "      <td>...</td>\n",
       "      <td>1751</td>\n",
       "      <td>452</td>\n",
       "      <td>1751</td>\n",
       "      <td>453</td>\n",
       "      <td>1751</td>\n",
       "      <td>453</td>\n",
       "      <td>1751</td>\n",
       "      <td>453</td>\n",
       "      <td>1751</td>\n",
       "      <td>454</td>\n",
       "    </tr>\n",
       "    <tr>\n",
       "      <th>3198</th>\n",
       "      <td>9910</td>\n",
       "      <td>574</td>\n",
       "      <td>1289</td>\n",
       "      <td>574</td>\n",
       "      <td>1288</td>\n",
       "      <td>574</td>\n",
       "      <td>1288</td>\n",
       "      <td>574</td>\n",
       "      <td>1288</td>\n",
       "      <td>574</td>\n",
       "      <td>...</td>\n",
       "      <td>571</td>\n",
       "      <td>1283</td>\n",
       "      <td>571</td>\n",
       "      <td>1283</td>\n",
       "      <td>571</td>\n",
       "      <td>1283</td>\n",
       "      <td>571</td>\n",
       "      <td>1282</td>\n",
       "      <td>571</td>\n",
       "      <td>1282</td>\n",
       "    </tr>\n",
       "    <tr>\n",
       "      <th>3199</th>\n",
       "      <td>9918</td>\n",
       "      <td>584</td>\n",
       "      <td>1164</td>\n",
       "      <td>584</td>\n",
       "      <td>1163</td>\n",
       "      <td>584</td>\n",
       "      <td>1162</td>\n",
       "      <td>584</td>\n",
       "      <td>1161</td>\n",
       "      <td>585</td>\n",
       "      <td>...</td>\n",
       "      <td>586</td>\n",
       "      <td>1142</td>\n",
       "      <td>586</td>\n",
       "      <td>1141</td>\n",
       "      <td>586</td>\n",
       "      <td>1140</td>\n",
       "      <td>585</td>\n",
       "      <td>1139</td>\n",
       "      <td>586</td>\n",
       "      <td>1138</td>\n",
       "    </tr>\n",
       "  </tbody>\n",
       "</table>\n",
       "<p>3200 rows × 61 columns</p>\n",
       "</div>"
      ],
      "text/plain": [
       "         ID    v1    v2    v3    v4    v5    v6    v7    v8    v9  ...   v51  \\\n",
       "0     10002  1713   336  1715   337  1717   338  1716   339  1717  ...  1739   \n",
       "1     10015   725  1229   725  1229   725  1229   725  1229   725  ...   724   \n",
       "2     10019   573  1245   574  1245   574  1245   574  1244   574  ...   580   \n",
       "3     10028  1691   315  1692   316  1692   316  1693   317  1694  ...  1708   \n",
       "4      1003  2123   676  2120   676  2119   674  2118   673  2118  ...  2092   \n",
       "...     ...   ...   ...   ...   ...   ...   ...   ...   ...   ...  ...   ...   \n",
       "3195   9897   256   805   256   805   256   805   257   805   257  ...   262   \n",
       "3196     99   587  1154   587  1153   587  1153   587  1152   588  ...   590   \n",
       "3197   9905  1755   444  1755   444  1755   444  1755   445  1755  ...  1751   \n",
       "3198   9910   574  1289   574  1288   574  1288   574  1288   574  ...   571   \n",
       "3199   9918   584  1164   584  1163   584  1162   584  1161   585  ...   586   \n",
       "\n",
       "       v52   v53   v54   v55   v56   v57   v58   v59   v60  \n",
       "0      359  1738   359  1740   360  1740   361  1743   361  \n",
       "1     1227   724  1228   723  1227   723  1227   724  1227  \n",
       "2     1242   580  1242   580  1242   580  1241   581  1242  \n",
       "3      328  1708   328  1709   329  1710   329  1710   330  \n",
       "4      650  2092   650  2090   649  2090   648  2087   647  \n",
       "...    ...   ...   ...   ...   ...   ...   ...   ...   ...  \n",
       "3195   801   263   801   263   801   263   800   263   800  \n",
       "3196  1139   589  1138   589  1137   589  1136   589  1136  \n",
       "3197   452  1751   453  1751   453  1751   453  1751   454  \n",
       "3198  1283   571  1283   571  1283   571  1282   571  1282  \n",
       "3199  1142   586  1141   586  1140   585  1139   586  1138  \n",
       "\n",
       "[3200 rows x 61 columns]"
      ]
     },
     "execution_count": 44,
     "metadata": {},
     "output_type": "execute_result"
    }
   ],
   "source": [
    "sub_df"
   ]
  },
  {
   "cell_type": "code",
   "execution_count": null,
   "id": "db08b55e-05e6-409e-b831-5f23ccd42ab3",
   "metadata": {
    "id": "db08b55e-05e6-409e-b831-5f23ccd42ab3"
   },
   "outputs": [],
   "source": [
    "# Ensemble Method "
   ]
  }
 ],
 "metadata": {
  "colab": {
   "provenance": []
  },
  "kernelspec": {
   "display_name": "Python 3 (ipykernel)",
   "language": "python",
   "name": "python3"
  },
  "language_info": {
   "codemirror_mode": {
    "name": "ipython",
    "version": 3
   },
   "file_extension": ".py",
   "mimetype": "text/x-python",
   "name": "python",
   "nbconvert_exporter": "python",
   "pygments_lexer": "ipython3",
   "version": "3.9.5"
  }
 },
 "nbformat": 4,
 "nbformat_minor": 5
}
