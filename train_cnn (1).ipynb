{
 "cells": [
  {
   "cell_type": "code",
   "execution_count": 1,
   "id": "ea9f615f-1564-401f-9a74-8ac98f9bbeab",
   "metadata": {
    "executionInfo": {
     "elapsed": 9663,
     "status": "ok",
     "timestamp": 1682205872583,
     "user": {
      "displayName": "Dev Gulati",
      "userId": "17053533454866203676"
     },
     "user_tz": 420
    },
    "id": "ea9f615f-1564-401f-9a74-8ac98f9bbeab",
    "tags": []
   },
   "outputs": [],
   "source": [
    "import os\n",
    "from matplotlib import pyplot as plt\n",
    "import pickle\n",
    "from glob import glob\n",
    "import numpy as np\n",
    "import torch\n",
    "import torch.nn as nn\n",
    "import pandas as pd\n",
    "import time\n",
    "import torchvision\n",
    "import torchvision.models as models\n",
    "import torchvision.transforms as transforms\n",
    "import PIL.Image\n",
    "\n",
    "device = torch.device(\"cuda\" if torch.cuda.is_available() else \"cpu\")\n",
    "# device = torch.device(\"cpu\")"
   ]
  },
  {
   "cell_type": "code",
   "execution_count": 2,
   "id": "OmXuKzlHSJhe",
   "metadata": {
    "colab": {
     "base_uri": "https://localhost:8080/"
    },
    "executionInfo": {
     "elapsed": 163,
     "status": "ok",
     "timestamp": 1682205878064,
     "user": {
      "displayName": "Dev Gulati",
      "userId": "17053533454866203676"
     },
     "user_tz": 420
    },
    "id": "OmXuKzlHSJhe",
    "outputId": "1111f7c9-8a79-4bf3-a31e-49aa92794685",
    "tags": []
   },
   "outputs": [
    {
     "name": "stdout",
     "output_type": "stream",
     "text": [
      "cpu\n"
     ]
    }
   ],
   "source": [
    "print(device)"
   ]
  },
  {
   "cell_type": "markdown",
   "id": "f44b0f51-0779-49dc-bcab-5c284039d6fd",
   "metadata": {
    "id": "f44b0f51-0779-49dc-bcab-5c284039d6fd"
   },
   "source": [
    "# CNN"
   ]
  },
  {
   "cell_type": "code",
   "execution_count": 3,
   "id": "68fac99f-9f5e-4fb5-ba6c-e22cc6f8f8be",
   "metadata": {
    "id": "68fac99f-9f5e-4fb5-ba6c-e22cc6f8f8be",
    "tags": []
   },
   "outputs": [],
   "source": [
    "class ResNet34(nn.Module):\n",
    "    def __init__(self, num_classes):\n",
    "        super(ResNet34, self).__init__()\n",
    "        self.resnet = models.resnet18(pretrained=False)\n",
    "        self.resnet.fc = nn.Linear(512, num_classes)\n",
    "\n",
    "    def forward(self, x):\n",
    "        x = self.resnet(x)\n",
    "        return x"
   ]
  },
  {
   "cell_type": "markdown",
   "id": "1c020112-bb96-45d0-abf4-332956e8e544",
   "metadata": {
    "id": "1c020112-bb96-45d0-abf4-332956e8e544"
   },
   "source": [
    "# Dataset"
   ]
  },
  {
   "cell_type": "code",
   "execution_count": 4,
   "id": "cc5190e9-67a3-4e83-af0c-2f79f9cab867",
   "metadata": {
    "id": "cc5190e9-67a3-4e83-af0c-2f79f9cab867",
    "tags": []
   },
   "outputs": [],
   "source": [
    "class ArgoverseDataset(torch.utils.data.Dataset):\n",
    "    \"\"\"Dataset class for Argoverse\"\"\"\n",
    "    \n",
    "    def __init__(self, \n",
    "                 data_path,\n",
    "                 target_path,\n",
    "                 sample_indices):\n",
    "        super(ArgoverseDataset, self).__init__()\n",
    "        \n",
    "        self.data_path = data_path\n",
    "        self.target_path = target_path\n",
    "        self.sample_indices = sample_indices\n",
    "        self.img_list = glob(os.path.join(self.data_path, '*'))\n",
    "        self.target_list = glob(os.path.join(self.target_path, '*'))\n",
    "        \n",
    "        self.transform = transforms.Compose([transforms.PILToTensor()])\n",
    "        \n",
    "    def __len__(self):\n",
    "        return len(self.sample_indices)\n",
    "\n",
    "    def __getitem__(self, idx):\n",
    "        \n",
    "        # Load one scene\n",
    "        pkl_path = self.target_list[self.sample_indices[idx]]\n",
    "        with open(pkl_path, 'rb') as f:\n",
    "            target = pickle.load(f)\n",
    "            \n",
    "        img_path = self.img_list[self.sample_indices[idx]]\n",
    "        rgba_image = PIL.Image.open(img_path)\n",
    "        rgb_image = rgba_image.convert('RGB')\n",
    "        # img = self.transform(rgb_image)\n",
    "        img = torchvision.transforms.functional.to_tensor(rgb_image)\n",
    "        \n",
    "        # Convert to float torch tensor\n",
    "        return img, target"
   ]
  },
  {
   "cell_type": "code",
   "execution_count": 5,
   "id": "16e5f5c2-86ff-4a6b-a585-117d0d08b8b2",
   "metadata": {
    "id": "16e5f5c2-86ff-4a6b-a585-117d0d08b8b2",
    "tags": []
   },
   "outputs": [],
   "source": [
    "# Try different ways of normalization\n",
    "# Leverage other features. "
   ]
  },
  {
   "cell_type": "markdown",
   "id": "c13ae604-526c-4fff-a672-f09cd103f7c2",
   "metadata": {
    "id": "c13ae604-526c-4fff-a672-f09cd103f7c2"
   },
   "source": [
    "# Hyperparameter"
   ]
  },
  {
   "cell_type": "code",
   "execution_count": 6,
   "id": "913d832f-4050-4c23-9d74-114595112f13",
   "metadata": {
    "id": "913d832f-4050-4c23-9d74-114595112f13",
    "tags": []
   },
   "outputs": [],
   "source": [
    "# Grid/Random Search"
   ]
  },
  {
   "cell_type": "code",
   "execution_count": 7,
   "id": "29e5c051-43a7-4bfd-9ab0-7105693661d3",
   "metadata": {
    "id": "29e5c051-43a7-4bfd-9ab0-7105693661d3",
    "tags": []
   },
   "outputs": [],
   "source": [
    "batch_size = 32\n",
    "num_classes = 60\n",
    "in_dim = (400, 400)\n",
    "learning_rate = 0.01\n",
    "decay_rate = 0.95\n",
    "num_epoch = 10"
   ]
  },
  {
   "cell_type": "markdown",
   "id": "fb7aa146-1618-4fc2-aec1-2724a09c8bd0",
   "metadata": {
    "id": "fb7aa146-1618-4fc2-aec1-2724a09c8bd0"
   },
   "source": [
    "# Data Loader"
   ]
  },
  {
   "cell_type": "code",
   "execution_count": 8,
   "id": "d589c9c9-c46b-4b70-a515-90dd68669431",
   "metadata": {
    "colab": {
     "base_uri": "https://localhost:8080/"
    },
    "executionInfo": {
     "elapsed": 194,
     "status": "ok",
     "timestamp": 1682203235553,
     "user": {
      "displayName": "Dev Gulati",
      "userId": "17053533454866203676"
     },
     "user_tz": 420
    },
    "id": "d589c9c9-c46b-4b70-a515-90dd68669431",
    "outputId": "34773f5c-9441-4dd7-903b-970cb0e59e99",
    "tags": []
   },
   "outputs": [],
   "source": [
    "img_path = \"./rasterization_try2/rasterized_try2\"\n",
    "target_path = \"./rasterization_out/rasterized_out\"\n",
    "\n",
    "# total number of scenes\n",
    "# indices = np.arange(0, 205942)\n",
    "indices = np.arange(0, 13299)\n",
    "\n",
    "# train-valid split\n",
    "np.random.shuffle(indices)\n",
    "train_indices = indices[:9309]\n",
    "valid_indices = indices[9309:]\n",
    "\n",
    "# define datasets\n",
    "train_set = ArgoverseDataset(img_path, target_path, train_indices)\n",
    "valid_set = ArgoverseDataset(img_path, target_path, valid_indices)\n",
    "\n",
    "# create dataloaders\n",
    "train_loader = torch.utils.data.DataLoader(train_set, batch_size=batch_size, shuffle=True, num_workers=0)\n",
    "valid_loader = torch.utils.data.DataLoader(valid_set, batch_size=batch_size, shuffle=False, num_workers=0)"
   ]
  },
  {
   "cell_type": "markdown",
   "id": "6d9c45bc-bdf3-4b5a-82b0-c0752c16cd2b",
   "metadata": {
    "id": "6d9c45bc-bdf3-4b5a-82b0-c0752c16cd2b"
   },
   "source": [
    "# Model, Loss Function and Optimizer"
   ]
  },
  {
   "cell_type": "code",
   "execution_count": 9,
   "id": "8c3cc020-8055-4005-ba6b-585a2e7a5fee",
   "metadata": {
    "id": "8c3cc020-8055-4005-ba6b-585a2e7a5fee",
    "tags": []
   },
   "outputs": [],
   "source": [
    "# RNN, LSTM, 1dCNN, Transformer\n",
    "model = ResNet34(num_classes=num_classes).to(device) # move model to gpu \n",
    "\n",
    "# Adaptive Moment Estimation computes adaptive learning rates for each parameter. \n",
    "# Compute the decaying averages of past and past squared gradients. \n",
    "\n",
    "optimizer = torch.optim.Adam(model.parameters(), lr=learning_rate)\n",
    "scheduler = torch.optim.lr_scheduler.StepLR(optimizer, step_size=1, gamma=decay_rate)  # stepwise learning rate decay\n",
    "loss_fun = nn.MSELoss()"
   ]
  },
  {
   "cell_type": "markdown",
   "id": "1c3392ee-eb57-4d8d-b6ea-49e6f38e3770",
   "metadata": {
    "id": "1c3392ee-eb57-4d8d-b6ea-49e6f38e3770"
   },
   "source": [
    "# Training"
   ]
  },
  {
   "cell_type": "code",
   "execution_count": 10,
   "id": "fa3e350d-9fca-4356-84da-7412d86667c9",
   "metadata": {
    "id": "fa3e350d-9fca-4356-84da-7412d86667c9",
    "tags": []
   },
   "outputs": [],
   "source": [
    "def train_epoch(train_loader, model, optimizer, loss_function):\n",
    "    train_mse = []\n",
    "    for inp, tgt in train_loader:\n",
    "        inp = inp.to(device)\n",
    "        tgt = tgt.to(device)\n",
    "        pred = model(inp)\n",
    "\n",
    "        loss = loss_function(pred.float(), tgt.float())\n",
    "        train_mse.append(loss.item()) \n",
    "        optimizer.zero_grad()\n",
    "        loss.backward()\n",
    "        optimizer.step()\n",
    "    train_mse = round(np.sqrt(np.mean(train_mse)),5)\n",
    "    return train_mse\n",
    "\n",
    "def eval_epoch(valid_loader, model, loss_function):\n",
    "    valid_mse = []\n",
    "    preds = []\n",
    "    trues = []\n",
    "    loss_arr = []\n",
    "    with torch.no_grad():\n",
    "        for inp, tgt in valid_loader:\n",
    "            inp = inp.to(device)\n",
    "            tgt = tgt.to(device)\n",
    "            \n",
    "            loss = 0\n",
    "            pred = model(inp)\n",
    "            loss = loss_function(pred.float(), tgt.float())\n",
    "            loss_arr.append(loss)\n",
    "            preds.append(pred)\n",
    "            trues.append(tgt)\n",
    "            valid_mse.append(loss.item())\n",
    "        preds = np.concatenate(preds, axis = 0)  \n",
    "        trues = np.concatenate(trues, axis = 0)  \n",
    "        valid_mse = round(np.sqrt(np.mean(valid_mse)), 5)\n",
    "    return valid_mse, preds, trues, loss_arr\n"
   ]
  },
  {
   "cell_type": "code",
   "execution_count": 11,
   "id": "f529da48-7092-4096-b95d-a3782e0a7590",
   "metadata": {
    "id": "f529da48-7092-4096-b95d-a3782e0a7590",
    "tags": []
   },
   "outputs": [],
   "source": [
    "# Learning Rate Decay\n",
    "# Dropout\n",
    "# L1/L2 Regulization"
   ]
  },
  {
   "cell_type": "code",
   "execution_count": 13,
   "id": "f5c15057-a83e-44b0-af97-cf28f3c98044",
   "metadata": {
    "colab": {
     "base_uri": "https://localhost:8080/",
     "height": 554
    },
    "executionInfo": {
     "elapsed": 610,
     "status": "error",
     "timestamp": 1682203248929,
     "user": {
      "displayName": "Dev Gulati",
      "userId": "17053533454866203676"
     },
     "user_tz": 420
    },
    "id": "f5c15057-a83e-44b0-af97-cf28f3c98044",
    "outputId": "c23108e3-db6e-4d40-8242-42cf968e5c13",
    "tags": []
   },
   "outputs": [
    {
     "name": "stdout",
     "output_type": "stream",
     "text": [
      "Epoch 1 | T: 46.13 | Train RMSE: 14.64716 | Valid RMSE: 14.72030\n",
      "Epoch 2 | T: 52.06 | Train RMSE: 14.64616 | Valid RMSE: 14.72388\n",
      "Epoch 3 | T: 48.12 | Train RMSE: 14.64610 | Valid RMSE: 14.71897\n",
      "Epoch 4 | T: 45.51 | Train RMSE: 14.64513 | Valid RMSE: 14.73898\n",
      "Epoch 5 | T: 45.32 | Train RMSE: 14.64351 | Valid RMSE: 14.72897\n",
      "Epoch 6 | T: 45.42 | Train RMSE: 14.64594 | Valid RMSE: 14.72281\n",
      "Epoch 7 | T: 44.87 | Train RMSE: 14.64202 | Valid RMSE: 14.72966\n",
      "Epoch 8 | T: 44.54 | Train RMSE: 14.64240 | Valid RMSE: 14.72619\n",
      "Epoch 9 | T: 39.55 | Train RMSE: 14.64077 | Valid RMSE: 14.73728\n",
      "Epoch 10 | T: 38.33 | Train RMSE: 14.64316 | Valid RMSE: 14.72585\n"
     ]
    }
   ],
   "source": [
    "train_rmse = []\n",
    "valid_rmse = []\n",
    "loss_arr_val = []\n",
    "min_rmse = 10e8\n",
    "\n",
    "name = 'cnn_second_try'\n",
    "for i in range(num_epoch):\n",
    "    start = time.time()\n",
    "\n",
    "    # model.train() # if you use dropout or batchnorm. \n",
    "    train_rmse.append(train_epoch(train_loader, model, optimizer, loss_fun))\n",
    "\n",
    "    # model.eval()\n",
    "    val_rmse, val_preds, val_trues, loss_arr = eval_epoch(valid_loader, model, loss_fun)\n",
    "    valid_rmse.append(val_rmse)\n",
    "    loss_arr_val.append(loss_arr)\n",
    "\n",
    "    # save the best model\n",
    "    if valid_rmse[-1] < min_rmse:\n",
    "        min_rmse = valid_rmse[-1] \n",
    "        best_model = model\n",
    "        torch.save([best_model, i, learning_rate], name + \".pth\")\n",
    "\n",
    "    end = time.time()\n",
    "    \n",
    "    # Early Stopping\n",
    "    if (len(train_rmse) > 100 and np.mean(valid_rmse[-5:]) >= np.mean(valid_rmse[-10:-5])):\n",
    "            break       \n",
    "\n",
    "    # Learning Rate Decay        \n",
    "    scheduler.step()\n",
    "    with open('cnn_train_rmse.npy', 'wb') as f:\n",
    "        np.save(f, np.array(train_rmse))\n",
    "    with open('cnn_valid_rmse.npy', 'wb') as f:\n",
    "        np.save(f, np.array(valid_rmse))\n",
    "    print(\"Epoch {} | T: {:0.2f} | Train RMSE: {:0.5f} | Valid RMSE: {:0.5f}\".format(i + 1, (end-start) / 60, train_rmse[-1], valid_rmse[-1]))"
   ]
  },
  {
   "cell_type": "markdown",
   "id": "540da579-31a5-462c-826b-e8e1c1a2ddd9",
   "metadata": {
    "id": "540da579-31a5-462c-826b-e8e1c1a2ddd9"
   },
   "source": [
    "# Evaluation and Submission"
   ]
  },
  {
   "cell_type": "code",
   "execution_count": null,
   "id": "66654867-c45e-4ad2-bdb4-ce1d546ea2d2",
   "metadata": {
    "id": "66654867-c45e-4ad2-bdb4-ce1d546ea2d2",
    "tags": []
   },
   "outputs": [],
   "source": [
    "test_path = \"./rasterization_val/rasterized_val/\"\n",
    "test_img_list = glob(os.path.join(test_path, '*'))\n",
    "test_img_list.sort()\n",
    "\n",
    "with open('./tracked_9th_shift.p', 'rb') as f:\n",
    "    tracked_9th_shift = pickle.load(f)\n",
    "\n",
    "test_preds = []\n",
    "for idx in range(len(test_img_list)):\n",
    "    img_path = test_img_list[idx]\n",
    "    rgba_image = PIL.Image.open(img_path)\n",
    "    rgb_image = rgba_image.convert('RGB')\n",
    "    inp = torchvision.transforms.functional.to_tensor(rgb_image)\n",
    "    inp = torch.reshape(inp, (1, 3, 400, 400))\n",
    "        \n",
    "    preds = best_model(inp) \n",
    "    preds = np.reshape(preds.detach().numpy(), (30, 2)) + tracked_9th_shift[idx]\n",
    "    test_preds.append(preds)"
   ]
  },
  {
   "cell_type": "markdown",
   "id": "f945f2f3-2b73-471f-91e5-87c63eb06a77",
   "metadata": {
    "id": "f945f2f3-2b73-471f-91e5-87c63eb06a77"
   },
   "source": [
    "# Generate Submission File"
   ]
  },
  {
   "cell_type": "code",
   "execution_count": null,
   "id": "af9c27f8-a65b-48ce-861b-262c3f0422e6",
   "metadata": {
    "id": "af9c27f8-a65b-48ce-861b-262c3f0422e6"
   },
   "outputs": [],
   "source": [
    "# # Submission Files\n",
    "sample_sub = pd.read_csv('sample_submission.csv')"
   ]
  },
  {
   "cell_type": "code",
   "execution_count": null,
   "id": "f01524a4-5473-4c1f-9991-46fd62162e20",
   "metadata": {
    "id": "f01524a4-5473-4c1f-9991-46fd62162e20"
   },
   "outputs": [],
   "source": [
    "# Convert to int\n",
    "predictions = np.concatenate(test_preds).reshape(len(test_preds), -1).astype(int)\n",
    "sub_df = pd.DataFrame(np.c_[sample_sub[\"ID\"], predictions], columns=[np.r_[[\"ID\"], [\"v\" + str(i) for i in range(1, 61)]]])\n",
    "sub_df.to_csv('test_submission.csv', index=None)"
   ]
  },
  {
   "cell_type": "code",
   "execution_count": null,
   "id": "RGiqLaD1PEDW",
   "metadata": {
    "id": "RGiqLaD1PEDW"
   },
   "outputs": [],
   "source": []
  }
 ],
 "metadata": {
  "accelerator": "GPU",
  "colab": {
   "provenance": []
  },
  "gpuClass": "standard",
  "kernelspec": {
   "display_name": "Python 3 (ipykernel)",
   "language": "python",
   "name": "python3"
  },
  "language_info": {
   "codemirror_mode": {
    "name": "ipython",
    "version": 3
   },
   "file_extension": ".py",
   "mimetype": "text/x-python",
   "name": "python",
   "nbconvert_exporter": "python",
   "pygments_lexer": "ipython3",
   "version": "3.9.5"
  }
 },
 "nbformat": 4,
 "nbformat_minor": 5
}
