{
 "cells": [
  {
   "cell_type": "code",
   "execution_count": 3,
   "metadata": {
    "id": "_xqyi_wWZA2h"
   },
   "outputs": [],
   "source": [
    "import torch\n",
    "from torch.utils.data import Dataset, DataLoader\n",
    "import os, os.path \n",
    "import numpy as np\n",
    "import pickle\n",
    "from glob import glob\n",
    "import pandas as pd\n",
    "import matplotlib.pyplot as plt"
   ]
  },
  {
   "cell_type": "code",
   "execution_count": null,
   "metadata": {
    "colab": {
     "base_uri": "https://localhost:8080/"
    },
    "id": "cWAdZUhcw5kJ",
    "outputId": "37fd6578-88f5-400e-8c16-6e3af08ef5bb"
   },
   "outputs": [],
   "source": [
    "from google.colab import drive\n",
    "drive.mount('/content/drive')"
   ]
  },
  {
   "cell_type": "code",
   "execution_count": null,
   "metadata": {
    "id": "fNo4x918qopB"
   },
   "outputs": [],
   "source": [
    "import os \n",
    "os.chdir('/content/drive/MyDrive/CSE_251B')\n",
    "#os.chdir('/content/drive/MyDrive/CSE-251B-Project/data/')\n",
    "#os.listdir()"
   ]
  },
  {
   "cell_type": "code",
   "execution_count": null,
   "metadata": {
    "colab": {
     "base_uri": "https://localhost:8080/"
    },
    "id": "_t60pMxB1ToU",
    "outputId": "e0d7c2a9-b88d-4fd2-e194-d6e8d5667ecb"
   },
   "outputs": [],
   "source": [
    "!ls"
   ]
  },
  {
   "cell_type": "code",
   "execution_count": 4,
   "metadata": {
    "colab": {
     "base_uri": "https://localhost:8080/"
    },
    "id": "kdGuTajnuY7x",
    "outputId": "014ada42-1893-4511-af4a-30a233dbb2d3"
   },
   "outputs": [
    {
     "name": "stdout",
     "output_type": "stream",
     "text": [
      "205942\n"
     ]
    }
   ],
   "source": [
    "train_path = \"./train/train/\"\n",
    "\n",
    "#train_path = \"./val_in/val_in\"\n",
    "training_samples = []\n",
    "# The glob module finds all the pathnames matching a specified pattern\n",
    "train_pkl_lst = glob(os.path.join(train_path, '*'))\n",
    "print(len(train_pkl_lst))"
   ]
  },
  {
   "cell_type": "markdown",
   "metadata": {
    "id": "vSLc8oXIZA2k"
   },
   "source": [
    "# Load training data"
   ]
  },
  {
   "cell_type": "code",
   "execution_count": 5,
   "metadata": {
    "colab": {
     "base_uri": "https://localhost:8080/",
     "height": 611
    },
    "id": "UDsXeahyZA2l",
    "outputId": "502aca9d-246c-4f69-d8bf-77c88c084b2a",
    "scrolled": true
   },
   "outputs": [
    {
     "name": "stdout",
     "output_type": "stream",
     "text": [
      "0\n",
      "50000\n",
      "100000\n",
      "150000\n",
      "200000\n"
     ]
    }
   ],
   "source": [
    "training_samples = []\n",
    "fnames = []\n",
    "for i in range(np.array(train_pkl_lst).shape[0]):\n",
    "    fnames.append(train_pkl_lst[i])\n",
    "    with open(train_pkl_lst[i], 'rb') as f:\n",
    "        training_samples.append(pickle.load(f))\n",
    "    if(i % 50000 == 0):\n",
    "        print(i)"
   ]
  },
  {
   "cell_type": "code",
   "execution_count": 6,
   "metadata": {
    "colab": {
     "base_uri": "https://localhost:8080/"
    },
    "id": "UlOxp_mbqPfd",
    "outputId": "8179fa86-599d-4e96-f084-6aae4b9651ad"
   },
   "outputs": [
    {
     "name": "stdout",
     "output_type": "stream",
     "text": [
      "(205942,)\n"
     ]
    }
   ],
   "source": [
    "training_samples = np.array(training_samples)\n",
    "print(training_samples.shape)"
   ]
  },
  {
   "cell_type": "code",
   "execution_count": null,
   "metadata": {
    "colab": {
     "base_uri": "https://localhost:8080/"
    },
    "id": "wcNsLOGkqPff",
    "outputId": "f6241e56-7c7a-4219-cff2-8d3ece0e7126"
   },
   "outputs": [],
   "source": [
    "print(training_samples[0].keys())"
   ]
  },
  {
   "cell_type": "code",
   "execution_count": 15,
   "metadata": {
    "colab": {
     "base_uri": "https://localhost:8080/"
    },
    "id": "HUUESDBQGKFY",
    "outputId": "12c79182-b3fa-478e-e939-9d70aec7ebe5"
   },
   "outputs": [
    {
     "name": "stdout",
     "output_type": "stream",
     "text": [
      "PIT\n"
     ]
    }
   ],
   "source": [
    "print(training_samples[1]['city'])"
   ]
  },
  {
   "cell_type": "code",
   "execution_count": null,
   "metadata": {
    "colab": {
     "base_uri": "https://localhost:8080/"
    },
    "id": "7UIJXIqpF0QP",
    "outputId": "e9a4f6c9-e013-4141-fd1c-279a1cc9f6bf"
   },
   "outputs": [],
   "source": [
    "print(training_samples[0]['p_in'][:,:,0][0])\n",
    "print(training_samples[0]['p_in'][:,:,0][1])\n",
    "print(training_samples[0]['p_in'][:,:,0][2])\n",
    "print(len(training_samples[0]['p_in'][:,:,0]))"
   ]
  },
  {
   "cell_type": "code",
   "execution_count": null,
   "metadata": {
    "colab": {
     "base_uri": "https://localhost:8080/",
     "height": 204
    },
    "id": "k3FHK8ygGINl",
    "outputId": "77cf9882-97c0-464f-e000-ad5be0732e5f"
   },
   "outputs": [],
   "source": []
  },
  {
   "cell_type": "code",
   "execution_count": 16,
   "metadata": {
    "colab": {
     "base_uri": "https://localhost:8080/"
    },
    "id": "eC_5KPhZMgPc",
    "outputId": "c9807acc-e723-49d0-bbcf-8e402b774f6b"
   },
   "outputs": [
    {
     "name": "stdout",
     "output_type": "stream",
     "text": [
      "(25000, 60, 19, 2)\n",
      "(25000, 60, 30, 2)\n"
     ]
    }
   ],
   "source": [
    "input_pos = []\n",
    "output_pos = []\n",
    "\n",
    "for i in range(len(training_samples)):\n",
    "    #if training_samples[i]['city'] == 'MIA':\n",
    "     if training_samples[i]['city'] == 'PIT':\n",
    "        input_pos.append(training_samples[i]['p_in'])\n",
    "        output_pos.append(training_samples[i]['p_out'])\n",
    "\n",
    "        \n",
    "\n",
    "random_idx = np.random.choice(np.arange(len(input_pos)),25000)\n",
    "input_pos = np.array(input_pos)\n",
    "input_pos = input_pos[random_idx]\n",
    "print(input_pos.shape)\n",
    "output_pos = np.array(output_pos)\n",
    "output_pos = output_pos[random_idx]\n",
    "print(output_pos.shape)"
   ]
  },
  {
   "cell_type": "code",
   "execution_count": 17,
   "metadata": {
    "id": "kXRzfo_bLQLf"
   },
   "outputs": [],
   "source": [
    "x_pos_in = torch.Tensor(input_pos[:,:,:,0])\n",
    "x_pos_in = torch.flatten(x_pos_in)\n",
    "y_pos_in = torch.Tensor(input_pos[:,:,:,1])\n",
    "y_pos_in = torch.flatten(y_pos_in)\n",
    "xpos_in_list = x_pos_in.tolist()\n",
    "ypos_in_list = y_pos_in.tolist()"
   ]
  },
  {
   "cell_type": "code",
   "execution_count": 18,
   "metadata": {},
   "outputs": [],
   "source": [
    "x_pos_out = torch.Tensor(output_pos[:,:,:,0])\n",
    "x_pos_out = torch.flatten(x_pos_out)\n",
    "y_pos_out = torch.Tensor(output_pos[:,:,:,1])\n",
    "y_pos_out = torch.flatten(y_pos_out)\n",
    "xpos_out_list = x_pos_out.tolist()\n",
    "ypos_out_list = y_pos_out.tolist()"
   ]
  },
  {
   "cell_type": "code",
   "execution_count": 20,
   "metadata": {
    "colab": {
     "base_uri": "https://localhost:8080/",
     "height": 760
    },
    "id": "mFzz1e3rFbTs",
    "outputId": "add66b90-f6d0-4505-8178-9530f56e7295",
    "scrolled": false
   },
   "outputs": [
    {
     "name": "stdout",
     "output_type": "stream",
     "text": [
      "min x_pos: 0.0, max x_pos: 4738.98486328125\n",
      "min y_pos: 0.0, max y_pos: 2638.939697265625\n",
      "min x_pos: 0.0, max x_pos: 4744.28076171875\n",
      "min y_pos: 0.0, max y_pos: 2646.548095703125\n"
     ]
    },
    {
     "data": {
      "text/plain": [
       "<matplotlib.colorbar.Colorbar at 0x912c15e50>"
      ]
     },
     "execution_count": 20,
     "metadata": {},
     "output_type": "execute_result"
    },
    {
     "data": {
      "image/png": "[encoded data removed]",
      "text/plain": [
       "<Figure size 1440x720 with 5 Axes>"
      ]
     },
     "metadata": {
      "needs_background": "light"
     },
     "output_type": "display_data"
    }
   ],
   "source": [
    "fig = plt.figure(figsize = (20,10))\n",
    "ax1 = fig.add_subplot()\n",
    "print(f'min x_pos: {min(xpos_in_list)}, max x_pos: {max(xpos_in_list)}')\n",
    "print(f'min y_pos: {min(ypos_in_list)}, max y_pos: {max(ypos_in_list)}')\n",
    "ax1 = fig.add_subplot(121)\n",
    "_,_,_,im = ax1.hist2d(xpos_in_list, ypos_in_list,bins=[np.arange(0,5000,10),np.arange(0,3000,10)], vmin=0, vmax=80000)\n",
    "\n",
    "ax1.set_title(\"Distribution of input position for all agents for Pittsburgh \")\n",
    "fig.colorbar(im, ax=ax1)\n",
    "\n",
    "\n",
    "\n",
    "ax2 = fig.add_subplot(122)\n",
    "print(f'min x_pos: {min(xpos_out_list)}, max x_pos: {max(xpos_out_list)}')\n",
    "print(f'min y_pos: {min(ypos_out_list)}, max y_pos: {max(ypos_out_list)}')\n",
    "_,_,_,im = ax2.hist2d(xpos_out_list, ypos_out_list,bins=[np.arange(0,5000,10),np.arange(0,3000,10)], vmin=0, vmax=8000)\n",
    "           \n",
    "ax2.set_title(\"Distribution of output position for all agents for Pittsburgh \")\n",
    "fig.colorbar(im, ax=ax2)\n",
    "\n"
   ]
  },
  {
   "cell_type": "code",
   "execution_count": null,
   "metadata": {
    "id": "bJS-mvjOqPfh"
   },
   "outputs": [],
   "source": [
    "#x_pos = torch.Tensor(training_samples[0]['p_in'][:,:,0])\n",
    "x_pos = torch.Tensor(output_pos[:,:,:,0])\n",
    "x_pos = torch.flatten(x_pos)\n",
    "\n",
    "#y_pos = torch.Tensor(training_samples[0]['p_in'][:,:,1])\n",
    "y_pos = torch.Tensor(output_pos[:,:,:,1])\n",
    "\n",
    "y_pos = torch.flatten(y_pos)\n",
    "\n",
    "xpos_list = x_pos.tolist()\n",
    "ypos_list = y_pos.tolist()\n",
    "\n",
    "\n",
    "# for i in range(len(training_samples)):\n",
    "#     t_x = training_samples[i]['p_in'][:,:,0]\n",
    "#     t_y = training_samples[i]['p_in'][:,:,0]\n",
    "#     for j in range(len(t_x)):\n",
    "#         for k in range(len(t_x[0])):\n",
    "#             x_pos.append(training_samples[i]['p_in'][:,:,0][j][k])\n",
    "#             y_pos.append(training_samples[i]['p_in'][:,:,1][j][k])\n"
   ]
  },
  {
   "cell_type": "code",
   "execution_count": null,
   "metadata": {
    "colab": {
     "base_uri": "https://localhost:8080/",
     "height": 760
    },
    "id": "8p2RVOQ4qPfi",
    "outputId": "10a8ecbd-ce4f-430d-fe50-80d8c1b70a03"
   },
   "outputs": [],
   "source": [
    "\n",
    "fig = plt.figure(figsize = (8,8))\n",
    "ax1 = fig.add_subplot()\n",
    "print(f'min x_pos: {min(xpos_list)}, max x_pos: {max(xpos_list)}')\n",
    "print(f'min y_pos: {min(ypos_list)}, max y_pos: {max(ypos_list)}')\n",
    "#ax1 = sns.heatmap(x_pos, linewidth=0.5)\n",
    "_,_,_,im = ax1.hist2d(xpos_list, ypos_list,bins=[np.arange(-7,4800,50),np.arange(0,4094,50)], vmin=0, vmax=10000)\n",
    "           \n",
    "ax1.set_title(\"Distribution of input position for all agents\")\n",
    "fig.colorbar(im, ax=ax1)\n"
   ]
  }
 ],
 "metadata": {
  "colab": {
   "provenance": []
  },
  "kernelspec": {
   "display_name": "Python 3 (ipykernel)",
   "language": "python",
   "name": "python3"
  },
  "language_info": {
   "codemirror_mode": {
    "name": "ipython",
    "version": 3
   },
   "file_extension": ".py",
   "mimetype": "text/x-python",
   "name": "python",
   "nbconvert_exporter": "python",
   "pygments_lexer": "ipython3",
   "version": "3.8.12"
  }
 },
 "nbformat": 4,
 "nbformat_minor": 1
}
