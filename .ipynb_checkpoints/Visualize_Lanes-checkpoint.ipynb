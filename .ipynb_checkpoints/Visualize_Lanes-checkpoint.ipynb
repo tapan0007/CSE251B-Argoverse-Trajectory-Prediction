{
 "cells": [
  {
   "cell_type": "code",
   "execution_count": 1,
   "metadata": {
    "executionInfo": {
     "elapsed": 9168,
     "status": "ok",
     "timestamp": 1682201543283,
     "user": {
      "displayName": "Ashwin Muralidharan",
      "userId": "16158066834554772584"
     },
     "user_tz": 420
    },
    "id": "_xqyi_wWZA2h",
    "tags": []
   },
   "outputs": [],
   "source": [
    "import torch\n",
    "from torch.utils.data import Dataset, DataLoader\n",
    "import os, os.path \n",
    "import numpy as np\n",
    "import pickle\n",
    "from glob import glob\n",
    "import pandas as pd\n",
    "import matplotlib.pyplot as plt\n",
    "from tqdm import tqdm"
   ]
  },
  {
   "cell_type": "markdown",
   "metadata": {
    "id": "vSLc8oXIZA2k"
   },
   "source": [
    "# Load one training sample"
   ]
  },
  {
   "cell_type": "code",
   "execution_count": 4,
   "metadata": {},
   "outputs": [
    {
     "data": {
      "text/plain": [
       "['./train/train\\\\0.pkl',\n",
       " './train/train\\\\1.pkl',\n",
       " './train/train\\\\10.pkl',\n",
       " './train/train\\\\100.pkl',\n",
       " './train/train\\\\1000.pkl',\n",
       " './train/train\\\\10000.pkl',\n",
       " './train/train\\\\100000.pkl',\n",
       " './train/train\\\\100001.pkl',\n",
       " './train/train\\\\100002.pkl',\n",
       " './train/train\\\\100003.pkl',\n",
       " './train/train\\\\100004.pkl',\n",
       " './train/train\\\\100005.pkl',\n",
       " './train/train\\\\100006.pkl',\n",
       " './train/train\\\\100007.pkl',\n",
       " './train/train\\\\100008.pkl',\n",
       " './train/train\\\\100009.pkl',\n",
       " './train/train\\\\10001.pkl',\n",
       " './train/train\\\\100010.pkl',\n",
       " './train/train\\\\100011.pkl',\n",
       " './train/train\\\\100012.pkl',\n",
       " './train/train\\\\100013.pkl',\n",
       " './train/train\\\\100014.pkl',\n",
       " './train/train\\\\100015.pkl',\n",
       " './train/train\\\\100016.pkl',\n",
       " './train/train\\\\100017.pkl',\n",
       " './train/train\\\\100018.pkl',\n",
       " './train/train\\\\100019.pkl',\n",
       " './train/train\\\\10002.pkl',\n",
       " './train/train\\\\100020.pkl',\n",
       " './train/train\\\\100021.pkl',\n",
       " './train/train\\\\100022.pkl',\n",
       " './train/train\\\\100023.pkl',\n",
       " './train/train\\\\100024.pkl',\n",
       " './train/train\\\\100025.pkl',\n",
       " './train/train\\\\100026.pkl',\n",
       " './train/train\\\\100027.pkl',\n",
       " './train/train\\\\100028.pkl',\n",
       " './train/train\\\\100029.pkl',\n",
       " './train/train\\\\10003.pkl',\n",
       " './train/train\\\\100030.pkl',\n",
       " './train/train\\\\100031.pkl',\n",
       " './train/train\\\\100032.pkl',\n",
       " './train/train\\\\100033.pkl',\n",
       " './train/train\\\\100034.pkl',\n",
       " './train/train\\\\100035.pkl',\n",
       " './train/train\\\\100036.pkl',\n",
       " './train/train\\\\100037.pkl',\n",
       " './train/train\\\\100038.pkl',\n",
       " './train/train\\\\100039.pkl',\n",
       " './train/train\\\\10004.pkl',\n",
       " './train/train\\\\100040.pkl',\n",
       " './train/train\\\\100041.pkl',\n",
       " './train/train\\\\100042.pkl',\n",
       " './train/train\\\\100043.pkl',\n",
       " './train/train\\\\100044.pkl',\n",
       " './train/train\\\\100045.pkl',\n",
       " './train/train\\\\100046.pkl',\n",
       " './train/train\\\\100047.pkl',\n",
       " './train/train\\\\100048.pkl',\n",
       " './train/train\\\\100049.pkl',\n",
       " './train/train\\\\10005.pkl',\n",
       " './train/train\\\\100050.pkl',\n",
       " './train/train\\\\100051.pkl',\n",
       " './train/train\\\\100052.pkl',\n",
       " './train/train\\\\100053.pkl',\n",
       " './train/train\\\\100054.pkl',\n",
       " './train/train\\\\100055.pkl',\n",
       " './train/train\\\\100056.pkl',\n",
       " './train/train\\\\100057.pkl',\n",
       " './train/train\\\\100058.pkl',\n",
       " './train/train\\\\100059.pkl',\n",
       " './train/train\\\\10006.pkl',\n",
       " './train/train\\\\100060.pkl',\n",
       " './train/train\\\\100061.pkl',\n",
       " './train/train\\\\100062.pkl',\n",
       " './train/train\\\\100063.pkl',\n",
       " './train/train\\\\100064.pkl',\n",
       " './train/train\\\\100065.pkl',\n",
       " './train/train\\\\100066.pkl',\n",
       " './train/train\\\\100067.pkl',\n",
       " './train/train\\\\100068.pkl',\n",
       " './train/train\\\\100069.pkl',\n",
       " './train/train\\\\10007.pkl',\n",
       " './train/train\\\\100070.pkl',\n",
       " './train/train\\\\100071.pkl',\n",
       " './train/train\\\\100072.pkl',\n",
       " './train/train\\\\100073.pkl',\n",
       " './train/train\\\\100074.pkl',\n",
       " './train/train\\\\100075.pkl',\n",
       " './train/train\\\\100076.pkl',\n",
       " './train/train\\\\100077.pkl',\n",
       " './train/train\\\\100078.pkl',\n",
       " './train/train\\\\100079.pkl',\n",
       " './train/train\\\\10008.pkl',\n",
       " './train/train\\\\100080.pkl',\n",
       " './train/train\\\\100081.pkl',\n",
       " './train/train\\\\100082.pkl',\n",
       " './train/train\\\\100083.pkl',\n",
       " './train/train\\\\100084.pkl',\n",
       " './train/train\\\\100085.pkl',\n",
       " './train/train\\\\100086.pkl',\n",
       " './train/train\\\\100087.pkl',\n",
       " './train/train\\\\100088.pkl',\n",
       " './train/train\\\\100089.pkl',\n",
       " './train/train\\\\10009.pkl',\n",
       " './train/train\\\\100090.pkl',\n",
       " './train/train\\\\100091.pkl',\n",
       " './train/train\\\\100092.pkl',\n",
       " './train/train\\\\100093.pkl',\n",
       " './train/train\\\\100094.pkl',\n",
       " './train/train\\\\100095.pkl',\n",
       " './train/train\\\\100096.pkl',\n",
       " './train/train\\\\100097.pkl',\n",
       " './train/train\\\\100098.pkl',\n",
       " './train/train\\\\100099.pkl',\n",
       " './train/train\\\\1001.pkl',\n",
       " './train/train\\\\10010.pkl',\n",
       " './train/train\\\\100100.pkl',\n",
       " './train/train\\\\100101.pkl',\n",
       " './train/train\\\\100102.pkl',\n",
       " './train/train\\\\100103.pkl',\n",
       " './train/train\\\\100104.pkl',\n",
       " './train/train\\\\100105.pkl',\n",
       " './train/train\\\\100106.pkl',\n",
       " './train/train\\\\100107.pkl',\n",
       " './train/train\\\\100108.pkl',\n",
       " './train/train\\\\100109.pkl',\n",
       " './train/train\\\\10011.pkl',\n",
       " './train/train\\\\100110.pkl',\n",
       " './train/train\\\\100111.pkl',\n",
       " './train/train\\\\100112.pkl',\n",
       " './train/train\\\\100113.pkl',\n",
       " './train/train\\\\100114.pkl',\n",
       " './train/train\\\\100115.pkl',\n",
       " './train/train\\\\100116.pkl',\n",
       " './train/train\\\\100117.pkl',\n",
       " './train/train\\\\100118.pkl',\n",
       " './train/train\\\\100119.pkl',\n",
       " './train/train\\\\10012.pkl',\n",
       " './train/train\\\\100120.pkl',\n",
       " './train/train\\\\100121.pkl',\n",
       " './train/train\\\\100122.pkl',\n",
       " './train/train\\\\100123.pkl',\n",
       " './train/train\\\\100124.pkl',\n",
       " './train/train\\\\100125.pkl',\n",
       " './train/train\\\\100126.pkl',\n",
       " './train/train\\\\100127.pkl',\n",
       " './train/train\\\\100128.pkl',\n",
       " './train/train\\\\100129.pkl',\n",
       " './train/train\\\\10013.pkl',\n",
       " './train/train\\\\100130.pkl',\n",
       " './train/train\\\\100131.pkl',\n",
       " './train/train\\\\100132.pkl',\n",
       " './train/train\\\\100133.pkl',\n",
       " './train/train\\\\100134.pkl',\n",
       " './train/train\\\\100135.pkl',\n",
       " './train/train\\\\100136.pkl',\n",
       " './train/train\\\\100137.pkl',\n",
       " './train/train\\\\100138.pkl',\n",
       " './train/train\\\\100139.pkl',\n",
       " './train/train\\\\10014.pkl',\n",
       " './train/train\\\\100140.pkl',\n",
       " './train/train\\\\100141.pkl',\n",
       " './train/train\\\\100142.pkl',\n",
       " './train/train\\\\100143.pkl',\n",
       " './train/train\\\\100144.pkl',\n",
       " './train/train\\\\100145.pkl',\n",
       " './train/train\\\\100146.pkl',\n",
       " './train/train\\\\100147.pkl',\n",
       " './train/train\\\\100148.pkl',\n",
       " './train/train\\\\100149.pkl',\n",
       " './train/train\\\\10015.pkl',\n",
       " './train/train\\\\100150.pkl',\n",
       " './train/train\\\\100151.pkl',\n",
       " './train/train\\\\100152.pkl',\n",
       " './train/train\\\\100153.pkl',\n",
       " './train/train\\\\100154.pkl',\n",
       " './train/train\\\\100155.pkl',\n",
       " './train/train\\\\100156.pkl',\n",
       " './train/train\\\\100157.pkl',\n",
       " './train/train\\\\100158.pkl',\n",
       " './train/train\\\\100159.pkl',\n",
       " './train/train\\\\10016.pkl',\n",
       " './train/train\\\\100160.pkl',\n",
       " './train/train\\\\100161.pkl',\n",
       " './train/train\\\\100162.pkl',\n",
       " './train/train\\\\100163.pkl',\n",
       " './train/train\\\\100164.pkl',\n",
       " './train/train\\\\100165.pkl',\n",
       " './train/train\\\\100166.pkl',\n",
       " './train/train\\\\100167.pkl',\n",
       " './train/train\\\\100168.pkl',\n",
       " './train/train\\\\100169.pkl',\n",
       " './train/train\\\\10017.pkl',\n",
       " './train/train\\\\100170.pkl',\n",
       " './train/train\\\\100171.pkl',\n",
       " './train/train\\\\100172.pkl',\n",
       " './train/train\\\\100173.pkl',\n",
       " './train/train\\\\100174.pkl',\n",
       " './train/train\\\\100175.pkl',\n",
       " './train/train\\\\100176.pkl',\n",
       " './train/train\\\\100177.pkl',\n",
       " './train/train\\\\100178.pkl',\n",
       " './train/train\\\\100179.pkl',\n",
       " './train/train\\\\10018.pkl',\n",
       " './train/train\\\\100180.pkl',\n",
       " './train/train\\\\100181.pkl',\n",
       " './train/train\\\\100182.pkl',\n",
       " './train/train\\\\100183.pkl',\n",
       " './train/train\\\\100184.pkl',\n",
       " './train/train\\\\100185.pkl',\n",
       " './train/train\\\\100186.pkl',\n",
       " './train/train\\\\100187.pkl',\n",
       " './train/train\\\\100188.pkl',\n",
       " './train/train\\\\100189.pkl',\n",
       " './train/train\\\\10019.pkl',\n",
       " './train/train\\\\100190.pkl',\n",
       " './train/train\\\\100191.pkl',\n",
       " './train/train\\\\100192.pkl',\n",
       " './train/train\\\\100193.pkl',\n",
       " './train/train\\\\100194.pkl',\n",
       " './train/train\\\\100195.pkl',\n",
       " './train/train\\\\100196.pkl',\n",
       " './train/train\\\\100197.pkl',\n",
       " './train/train\\\\100198.pkl',\n",
       " './train/train\\\\100199.pkl',\n",
       " './train/train\\\\1002.pkl',\n",
       " './train/train\\\\10020.pkl',\n",
       " './train/train\\\\100200.pkl',\n",
       " './train/train\\\\100201.pkl',\n",
       " './train/train\\\\100202.pkl',\n",
       " './train/train\\\\100203.pkl',\n",
       " './train/train\\\\100204.pkl',\n",
       " './train/train\\\\100205.pkl',\n",
       " './train/train\\\\100206.pkl',\n",
       " './train/train\\\\100207.pkl',\n",
       " './train/train\\\\100208.pkl',\n",
       " './train/train\\\\100209.pkl',\n",
       " './train/train\\\\10021.pkl',\n",
       " './train/train\\\\100210.pkl',\n",
       " './train/train\\\\100211.pkl',\n",
       " './train/train\\\\100212.pkl',\n",
       " './train/train\\\\100213.pkl',\n",
       " './train/train\\\\100214.pkl',\n",
       " './train/train\\\\100215.pkl',\n",
       " './train/train\\\\100216.pkl',\n",
       " './train/train\\\\100217.pkl',\n",
       " './train/train\\\\100218.pkl',\n",
       " './train/train\\\\100219.pkl',\n",
       " './train/train\\\\10022.pkl',\n",
       " './train/train\\\\100220.pkl',\n",
       " './train/train\\\\100221.pkl',\n",
       " './train/train\\\\100222.pkl',\n",
       " './train/train\\\\100223.pkl',\n",
       " './train/train\\\\100224.pkl',\n",
       " './train/train\\\\100225.pkl',\n",
       " './train/train\\\\100226.pkl',\n",
       " './train/train\\\\100227.pkl',\n",
       " './train/train\\\\100228.pkl',\n",
       " './train/train\\\\100229.pkl',\n",
       " './train/train\\\\10023.pkl',\n",
       " './train/train\\\\100230.pkl',\n",
       " './train/train\\\\100231.pkl',\n",
       " './train/train\\\\100232.pkl',\n",
       " './train/train\\\\100233.pkl',\n",
       " './train/train\\\\100234.pkl',\n",
       " './train/train\\\\100235.pkl',\n",
       " './train/train\\\\100236.pkl',\n",
       " './train/train\\\\100237.pkl',\n",
       " './train/train\\\\100238.pkl',\n",
       " './train/train\\\\100239.pkl',\n",
       " './train/train\\\\10024.pkl',\n",
       " './train/train\\\\100240.pkl',\n",
       " './train/train\\\\100241.pkl',\n",
       " './train/train\\\\100242.pkl',\n",
       " './train/train\\\\100243.pkl',\n",
       " './train/train\\\\100244.pkl',\n",
       " './train/train\\\\100245.pkl',\n",
       " './train/train\\\\100246.pkl',\n",
       " './train/train\\\\100247.pkl',\n",
       " './train/train\\\\100248.pkl',\n",
       " './train/train\\\\100249.pkl',\n",
       " './train/train\\\\10025.pkl',\n",
       " './train/train\\\\100250.pkl',\n",
       " './train/train\\\\100251.pkl',\n",
       " './train/train\\\\100252.pkl',\n",
       " './train/train\\\\100253.pkl',\n",
       " './train/train\\\\100254.pkl',\n",
       " './train/train\\\\100255.pkl',\n",
       " './train/train\\\\100256.pkl',\n",
       " './train/train\\\\100257.pkl',\n",
       " './train/train\\\\100258.pkl',\n",
       " './train/train\\\\100259.pkl',\n",
       " './train/train\\\\10026.pkl',\n",
       " './train/train\\\\100260.pkl',\n",
       " './train/train\\\\100261.pkl',\n",
       " './train/train\\\\100262.pkl',\n",
       " './train/train\\\\100263.pkl',\n",
       " './train/train\\\\100264.pkl',\n",
       " './train/train\\\\100265.pkl',\n",
       " './train/train\\\\100266.pkl',\n",
       " './train/train\\\\100267.pkl',\n",
       " './train/train\\\\100268.pkl',\n",
       " './train/train\\\\100269.pkl',\n",
       " './train/train\\\\10027.pkl',\n",
       " './train/train\\\\100270.pkl',\n",
       " './train/train\\\\100271.pkl',\n",
       " './train/train\\\\100272.pkl',\n",
       " './train/train\\\\100273.pkl',\n",
       " './train/train\\\\100274.pkl',\n",
       " './train/train\\\\100275.pkl',\n",
       " './train/train\\\\100276.pkl',\n",
       " './train/train\\\\100277.pkl',\n",
       " './train/train\\\\100278.pkl',\n",
       " './train/train\\\\100279.pkl',\n",
       " './train/train\\\\10028.pkl',\n",
       " './train/train\\\\100280.pkl',\n",
       " './train/train\\\\100281.pkl',\n",
       " './train/train\\\\100282.pkl',\n",
       " './train/train\\\\100283.pkl',\n",
       " './train/train\\\\100284.pkl',\n",
       " './train/train\\\\100285.pkl',\n",
       " './train/train\\\\100286.pkl',\n",
       " './train/train\\\\100287.pkl',\n",
       " './train/train\\\\100288.pkl',\n",
       " './train/train\\\\100289.pkl',\n",
       " './train/train\\\\10029.pkl',\n",
       " './train/train\\\\100290.pkl',\n",
       " './train/train\\\\100291.pkl',\n",
       " './train/train\\\\100292.pkl',\n",
       " './train/train\\\\100293.pkl',\n",
       " './train/train\\\\100294.pkl',\n",
       " './train/train\\\\100295.pkl',\n",
       " './train/train\\\\100296.pkl',\n",
       " './train/train\\\\100297.pkl',\n",
       " './train/train\\\\100298.pkl',\n",
       " './train/train\\\\100299.pkl',\n",
       " './train/train\\\\1003.pkl',\n",
       " './train/train\\\\10030.pkl',\n",
       " './train/train\\\\100300.pkl',\n",
       " './train/train\\\\100301.pkl',\n",
       " './train/train\\\\100302.pkl',\n",
       " './train/train\\\\100303.pkl',\n",
       " './train/train\\\\100304.pkl',\n",
       " './train/train\\\\100305.pkl',\n",
       " './train/train\\\\100306.pkl',\n",
       " './train/train\\\\100307.pkl',\n",
       " './train/train\\\\100308.pkl',\n",
       " './train/train\\\\100309.pkl',\n",
       " './train/train\\\\10031.pkl',\n",
       " './train/train\\\\100310.pkl',\n",
       " './train/train\\\\100311.pkl',\n",
       " './train/train\\\\100312.pkl',\n",
       " './train/train\\\\100313.pkl',\n",
       " './train/train\\\\100314.pkl',\n",
       " './train/train\\\\100315.pkl',\n",
       " './train/train\\\\100316.pkl',\n",
       " './train/train\\\\100317.pkl',\n",
       " './train/train\\\\100318.pkl',\n",
       " './train/train\\\\100319.pkl',\n",
       " './train/train\\\\10032.pkl',\n",
       " './train/train\\\\100320.pkl',\n",
       " './train/train\\\\100321.pkl',\n",
       " './train/train\\\\100322.pkl',\n",
       " './train/train\\\\100323.pkl',\n",
       " './train/train\\\\100324.pkl',\n",
       " './train/train\\\\100325.pkl',\n",
       " './train/train\\\\100326.pkl',\n",
       " './train/train\\\\100327.pkl',\n",
       " './train/train\\\\100328.pkl',\n",
       " './train/train\\\\100329.pkl',\n",
       " './train/train\\\\10033.pkl',\n",
       " './train/train\\\\100330.pkl',\n",
       " './train/train\\\\100331.pkl',\n",
       " './train/train\\\\100332.pkl',\n",
       " './train/train\\\\100333.pkl',\n",
       " './train/train\\\\100334.pkl',\n",
       " './train/train\\\\100335.pkl',\n",
       " './train/train\\\\100336.pkl',\n",
       " './train/train\\\\100337.pkl',\n",
       " './train/train\\\\100338.pkl',\n",
       " './train/train\\\\100339.pkl',\n",
       " './train/train\\\\10034.pkl',\n",
       " './train/train\\\\100340.pkl',\n",
       " './train/train\\\\100341.pkl',\n",
       " './train/train\\\\100342.pkl',\n",
       " './train/train\\\\100343.pkl',\n",
       " './train/train\\\\100344.pkl',\n",
       " './train/train\\\\100345.pkl',\n",
       " './train/train\\\\100346.pkl',\n",
       " './train/train\\\\100347.pkl',\n",
       " './train/train\\\\100348.pkl',\n",
       " './train/train\\\\100349.pkl',\n",
       " './train/train\\\\10035.pkl',\n",
       " './train/train\\\\100350.pkl',\n",
       " './train/train\\\\100351.pkl',\n",
       " './train/train\\\\100352.pkl',\n",
       " './train/train\\\\100353.pkl',\n",
       " './train/train\\\\100354.pkl',\n",
       " './train/train\\\\100355.pkl',\n",
       " './train/train\\\\100356.pkl',\n",
       " './train/train\\\\100357.pkl',\n",
       " './train/train\\\\100358.pkl',\n",
       " './train/train\\\\100359.pkl',\n",
       " './train/train\\\\10036.pkl',\n",
       " './train/train\\\\100360.pkl',\n",
       " './train/train\\\\100361.pkl',\n",
       " './train/train\\\\100362.pkl',\n",
       " './train/train\\\\100363.pkl',\n",
       " './train/train\\\\100364.pkl',\n",
       " './train/train\\\\100365.pkl',\n",
       " './train/train\\\\100366.pkl',\n",
       " './train/train\\\\100367.pkl',\n",
       " './train/train\\\\100368.pkl',\n",
       " './train/train\\\\100369.pkl',\n",
       " './train/train\\\\10037.pkl',\n",
       " './train/train\\\\100370.pkl',\n",
       " './train/train\\\\100371.pkl',\n",
       " './train/train\\\\100372.pkl',\n",
       " './train/train\\\\100373.pkl',\n",
       " './train/train\\\\100374.pkl',\n",
       " './train/train\\\\100375.pkl',\n",
       " './train/train\\\\100376.pkl',\n",
       " './train/train\\\\100377.pkl',\n",
       " './train/train\\\\100378.pkl',\n",
       " './train/train\\\\100379.pkl',\n",
       " './train/train\\\\10038.pkl',\n",
       " './train/train\\\\100380.pkl',\n",
       " './train/train\\\\100381.pkl',\n",
       " './train/train\\\\100382.pkl',\n",
       " './train/train\\\\100383.pkl',\n",
       " './train/train\\\\100384.pkl',\n",
       " './train/train\\\\100385.pkl',\n",
       " './train/train\\\\100386.pkl',\n",
       " './train/train\\\\100387.pkl',\n",
       " './train/train\\\\100388.pkl',\n",
       " './train/train\\\\100389.pkl',\n",
       " './train/train\\\\10039.pkl',\n",
       " './train/train\\\\100390.pkl',\n",
       " './train/train\\\\100391.pkl',\n",
       " './train/train\\\\100392.pkl',\n",
       " './train/train\\\\100393.pkl',\n",
       " './train/train\\\\100394.pkl',\n",
       " './train/train\\\\100395.pkl',\n",
       " './train/train\\\\100396.pkl',\n",
       " './train/train\\\\100397.pkl',\n",
       " './train/train\\\\100398.pkl',\n",
       " './train/train\\\\100399.pkl',\n",
       " './train/train\\\\1004.pkl',\n",
       " './train/train\\\\10040.pkl',\n",
       " './train/train\\\\100400.pkl',\n",
       " './train/train\\\\100401.pkl',\n",
       " './train/train\\\\100402.pkl',\n",
       " './train/train\\\\100403.pkl',\n",
       " './train/train\\\\100404.pkl',\n",
       " './train/train\\\\100405.pkl',\n",
       " './train/train\\\\100406.pkl',\n",
       " './train/train\\\\100407.pkl',\n",
       " './train/train\\\\100408.pkl',\n",
       " './train/train\\\\100409.pkl',\n",
       " './train/train\\\\10041.pkl',\n",
       " './train/train\\\\100410.pkl',\n",
       " './train/train\\\\100411.pkl',\n",
       " './train/train\\\\100412.pkl',\n",
       " './train/train\\\\100413.pkl',\n",
       " './train/train\\\\100414.pkl',\n",
       " './train/train\\\\100415.pkl',\n",
       " './train/train\\\\100416.pkl',\n",
       " './train/train\\\\100417.pkl',\n",
       " './train/train\\\\100418.pkl',\n",
       " './train/train\\\\100419.pkl',\n",
       " './train/train\\\\10042.pkl',\n",
       " './train/train\\\\100420.pkl',\n",
       " './train/train\\\\100421.pkl',\n",
       " './train/train\\\\100422.pkl',\n",
       " './train/train\\\\100423.pkl',\n",
       " './train/train\\\\100424.pkl',\n",
       " './train/train\\\\100425.pkl',\n",
       " './train/train\\\\100426.pkl',\n",
       " './train/train\\\\100427.pkl',\n",
       " './train/train\\\\100428.pkl',\n",
       " './train/train\\\\100429.pkl',\n",
       " './train/train\\\\10043.pkl',\n",
       " './train/train\\\\100430.pkl',\n",
       " './train/train\\\\100431.pkl',\n",
       " './train/train\\\\100432.pkl',\n",
       " './train/train\\\\100433.pkl',\n",
       " './train/train\\\\100434.pkl',\n",
       " './train/train\\\\100435.pkl',\n",
       " './train/train\\\\100436.pkl',\n",
       " './train/train\\\\100437.pkl',\n",
       " './train/train\\\\100438.pkl',\n",
       " './train/train\\\\100439.pkl',\n",
       " './train/train\\\\10044.pkl',\n",
       " './train/train\\\\100440.pkl',\n",
       " './train/train\\\\100441.pkl',\n",
       " './train/train\\\\100442.pkl',\n",
       " './train/train\\\\100443.pkl',\n",
       " './train/train\\\\100444.pkl',\n",
       " './train/train\\\\100445.pkl',\n",
       " './train/train\\\\100446.pkl',\n",
       " './train/train\\\\100447.pkl',\n",
       " './train/train\\\\100448.pkl',\n",
       " './train/train\\\\100449.pkl',\n",
       " './train/train\\\\10045.pkl',\n",
       " './train/train\\\\100450.pkl',\n",
       " './train/train\\\\100451.pkl',\n",
       " './train/train\\\\100452.pkl',\n",
       " './train/train\\\\100453.pkl',\n",
       " './train/train\\\\100454.pkl',\n",
       " './train/train\\\\100455.pkl',\n",
       " './train/train\\\\100456.pkl',\n",
       " './train/train\\\\100457.pkl',\n",
       " './train/train\\\\100458.pkl',\n",
       " './train/train\\\\100459.pkl',\n",
       " './train/train\\\\10046.pkl',\n",
       " './train/train\\\\100460.pkl',\n",
       " './train/train\\\\100461.pkl',\n",
       " './train/train\\\\100462.pkl',\n",
       " './train/train\\\\100463.pkl',\n",
       " './train/train\\\\100464.pkl',\n",
       " './train/train\\\\100465.pkl',\n",
       " './train/train\\\\100466.pkl',\n",
       " './train/train\\\\100467.pkl',\n",
       " './train/train\\\\100468.pkl',\n",
       " './train/train\\\\100469.pkl',\n",
       " './train/train\\\\10047.pkl',\n",
       " './train/train\\\\100470.pkl',\n",
       " './train/train\\\\100471.pkl',\n",
       " './train/train\\\\100472.pkl',\n",
       " './train/train\\\\100473.pkl',\n",
       " './train/train\\\\100474.pkl',\n",
       " './train/train\\\\100475.pkl',\n",
       " './train/train\\\\100476.pkl',\n",
       " './train/train\\\\100477.pkl',\n",
       " './train/train\\\\100478.pkl',\n",
       " './train/train\\\\100479.pkl',\n",
       " './train/train\\\\10048.pkl',\n",
       " './train/train\\\\100480.pkl',\n",
       " './train/train\\\\100481.pkl',\n",
       " './train/train\\\\100482.pkl',\n",
       " './train/train\\\\100483.pkl',\n",
       " './train/train\\\\100484.pkl',\n",
       " './train/train\\\\100485.pkl',\n",
       " './train/train\\\\100486.pkl',\n",
       " './train/train\\\\100487.pkl',\n",
       " './train/train\\\\100488.pkl',\n",
       " './train/train\\\\100489.pkl',\n",
       " './train/train\\\\10049.pkl',\n",
       " './train/train\\\\100490.pkl',\n",
       " './train/train\\\\100491.pkl',\n",
       " './train/train\\\\100492.pkl',\n",
       " './train/train\\\\100493.pkl',\n",
       " './train/train\\\\100494.pkl',\n",
       " './train/train\\\\100495.pkl',\n",
       " './train/train\\\\100496.pkl',\n",
       " './train/train\\\\100497.pkl',\n",
       " './train/train\\\\100498.pkl',\n",
       " './train/train\\\\100499.pkl',\n",
       " './train/train\\\\1005.pkl',\n",
       " './train/train\\\\10050.pkl',\n",
       " './train/train\\\\100500.pkl',\n",
       " './train/train\\\\100501.pkl',\n",
       " './train/train\\\\100502.pkl',\n",
       " './train/train\\\\100503.pkl',\n",
       " './train/train\\\\100504.pkl',\n",
       " './train/train\\\\100505.pkl',\n",
       " './train/train\\\\100506.pkl',\n",
       " './train/train\\\\100507.pkl',\n",
       " './train/train\\\\100508.pkl',\n",
       " './train/train\\\\100509.pkl',\n",
       " './train/train\\\\10051.pkl',\n",
       " './train/train\\\\100510.pkl',\n",
       " './train/train\\\\100511.pkl',\n",
       " './train/train\\\\100512.pkl',\n",
       " './train/train\\\\100513.pkl',\n",
       " './train/train\\\\100514.pkl',\n",
       " './train/train\\\\100515.pkl',\n",
       " './train/train\\\\100516.pkl',\n",
       " './train/train\\\\100517.pkl',\n",
       " './train/train\\\\100518.pkl',\n",
       " './train/train\\\\100519.pkl',\n",
       " './train/train\\\\10052.pkl',\n",
       " './train/train\\\\100520.pkl',\n",
       " './train/train\\\\100521.pkl',\n",
       " './train/train\\\\100522.pkl',\n",
       " './train/train\\\\100523.pkl',\n",
       " './train/train\\\\100524.pkl',\n",
       " './train/train\\\\100525.pkl',\n",
       " './train/train\\\\100526.pkl',\n",
       " './train/train\\\\100527.pkl',\n",
       " './train/train\\\\100528.pkl',\n",
       " './train/train\\\\100529.pkl',\n",
       " './train/train\\\\10053.pkl',\n",
       " './train/train\\\\100530.pkl',\n",
       " './train/train\\\\100531.pkl',\n",
       " './train/train\\\\100532.pkl',\n",
       " './train/train\\\\100533.pkl',\n",
       " './train/train\\\\100534.pkl',\n",
       " './train/train\\\\100535.pkl',\n",
       " './train/train\\\\100536.pkl',\n",
       " './train/train\\\\100537.pkl',\n",
       " './train/train\\\\100538.pkl',\n",
       " './train/train\\\\100539.pkl',\n",
       " './train/train\\\\10054.pkl',\n",
       " './train/train\\\\100540.pkl',\n",
       " './train/train\\\\100541.pkl',\n",
       " './train/train\\\\100542.pkl',\n",
       " './train/train\\\\100543.pkl',\n",
       " './train/train\\\\100544.pkl',\n",
       " './train/train\\\\100545.pkl',\n",
       " './train/train\\\\100546.pkl',\n",
       " './train/train\\\\100547.pkl',\n",
       " './train/train\\\\100548.pkl',\n",
       " './train/train\\\\100549.pkl',\n",
       " './train/train\\\\10055.pkl',\n",
       " './train/train\\\\100550.pkl',\n",
       " './train/train\\\\100551.pkl',\n",
       " './train/train\\\\100552.pkl',\n",
       " './train/train\\\\100553.pkl',\n",
       " './train/train\\\\100554.pkl',\n",
       " './train/train\\\\100555.pkl',\n",
       " './train/train\\\\100556.pkl',\n",
       " './train/train\\\\100557.pkl',\n",
       " './train/train\\\\100558.pkl',\n",
       " './train/train\\\\100559.pkl',\n",
       " './train/train\\\\10056.pkl',\n",
       " './train/train\\\\100560.pkl',\n",
       " './train/train\\\\100561.pkl',\n",
       " './train/train\\\\100562.pkl',\n",
       " './train/train\\\\100563.pkl',\n",
       " './train/train\\\\100564.pkl',\n",
       " './train/train\\\\100565.pkl',\n",
       " './train/train\\\\100566.pkl',\n",
       " './train/train\\\\100567.pkl',\n",
       " './train/train\\\\100568.pkl',\n",
       " './train/train\\\\100569.pkl',\n",
       " './train/train\\\\10057.pkl',\n",
       " './train/train\\\\100570.pkl',\n",
       " './train/train\\\\100571.pkl',\n",
       " './train/train\\\\100572.pkl',\n",
       " './train/train\\\\100573.pkl',\n",
       " './train/train\\\\100574.pkl',\n",
       " './train/train\\\\100575.pkl',\n",
       " './train/train\\\\100576.pkl',\n",
       " './train/train\\\\100577.pkl',\n",
       " './train/train\\\\100578.pkl',\n",
       " './train/train\\\\100579.pkl',\n",
       " './train/train\\\\10058.pkl',\n",
       " './train/train\\\\100580.pkl',\n",
       " './train/train\\\\100581.pkl',\n",
       " './train/train\\\\100582.pkl',\n",
       " './train/train\\\\100583.pkl',\n",
       " './train/train\\\\100584.pkl',\n",
       " './train/train\\\\100585.pkl',\n",
       " './train/train\\\\100586.pkl',\n",
       " './train/train\\\\100587.pkl',\n",
       " './train/train\\\\100588.pkl',\n",
       " './train/train\\\\100589.pkl',\n",
       " './train/train\\\\10059.pkl',\n",
       " './train/train\\\\100590.pkl',\n",
       " './train/train\\\\100591.pkl',\n",
       " './train/train\\\\100592.pkl',\n",
       " './train/train\\\\100593.pkl',\n",
       " './train/train\\\\100594.pkl',\n",
       " './train/train\\\\100595.pkl',\n",
       " './train/train\\\\100596.pkl',\n",
       " './train/train\\\\100597.pkl',\n",
       " './train/train\\\\100598.pkl',\n",
       " './train/train\\\\100599.pkl',\n",
       " './train/train\\\\1006.pkl',\n",
       " './train/train\\\\10060.pkl',\n",
       " './train/train\\\\100600.pkl',\n",
       " './train/train\\\\100601.pkl',\n",
       " './train/train\\\\100602.pkl',\n",
       " './train/train\\\\100603.pkl',\n",
       " './train/train\\\\100604.pkl',\n",
       " './train/train\\\\100605.pkl',\n",
       " './train/train\\\\100606.pkl',\n",
       " './train/train\\\\100607.pkl',\n",
       " './train/train\\\\100608.pkl',\n",
       " './train/train\\\\100609.pkl',\n",
       " './train/train\\\\10061.pkl',\n",
       " './train/train\\\\100610.pkl',\n",
       " './train/train\\\\100611.pkl',\n",
       " './train/train\\\\100612.pkl',\n",
       " './train/train\\\\100613.pkl',\n",
       " './train/train\\\\100614.pkl',\n",
       " './train/train\\\\100615.pkl',\n",
       " './train/train\\\\100616.pkl',\n",
       " './train/train\\\\100617.pkl',\n",
       " './train/train\\\\100618.pkl',\n",
       " './train/train\\\\100619.pkl',\n",
       " './train/train\\\\10062.pkl',\n",
       " './train/train\\\\100620.pkl',\n",
       " './train/train\\\\100621.pkl',\n",
       " './train/train\\\\100622.pkl',\n",
       " './train/train\\\\100623.pkl',\n",
       " './train/train\\\\100624.pkl',\n",
       " './train/train\\\\100625.pkl',\n",
       " './train/train\\\\100626.pkl',\n",
       " './train/train\\\\100627.pkl',\n",
       " './train/train\\\\100628.pkl',\n",
       " './train/train\\\\100629.pkl',\n",
       " './train/train\\\\10063.pkl',\n",
       " './train/train\\\\100630.pkl',\n",
       " './train/train\\\\100631.pkl',\n",
       " './train/train\\\\100632.pkl',\n",
       " './train/train\\\\100633.pkl',\n",
       " './train/train\\\\100634.pkl',\n",
       " './train/train\\\\100635.pkl',\n",
       " './train/train\\\\100636.pkl',\n",
       " './train/train\\\\100637.pkl',\n",
       " './train/train\\\\100638.pkl',\n",
       " './train/train\\\\100639.pkl',\n",
       " './train/train\\\\10064.pkl',\n",
       " './train/train\\\\100640.pkl',\n",
       " './train/train\\\\100641.pkl',\n",
       " './train/train\\\\100642.pkl',\n",
       " './train/train\\\\100643.pkl',\n",
       " './train/train\\\\100644.pkl',\n",
       " './train/train\\\\100645.pkl',\n",
       " './train/train\\\\100646.pkl',\n",
       " './train/train\\\\100647.pkl',\n",
       " './train/train\\\\100648.pkl',\n",
       " './train/train\\\\100649.pkl',\n",
       " './train/train\\\\10065.pkl',\n",
       " './train/train\\\\100650.pkl',\n",
       " './train/train\\\\100651.pkl',\n",
       " './train/train\\\\100652.pkl',\n",
       " './train/train\\\\100653.pkl',\n",
       " './train/train\\\\100654.pkl',\n",
       " './train/train\\\\100655.pkl',\n",
       " './train/train\\\\100656.pkl',\n",
       " './train/train\\\\100657.pkl',\n",
       " './train/train\\\\100658.pkl',\n",
       " './train/train\\\\100659.pkl',\n",
       " './train/train\\\\10066.pkl',\n",
       " './train/train\\\\100660.pkl',\n",
       " './train/train\\\\100661.pkl',\n",
       " './train/train\\\\100662.pkl',\n",
       " './train/train\\\\100663.pkl',\n",
       " './train/train\\\\100664.pkl',\n",
       " './train/train\\\\100665.pkl',\n",
       " './train/train\\\\100666.pkl',\n",
       " './train/train\\\\100667.pkl',\n",
       " './train/train\\\\100668.pkl',\n",
       " './train/train\\\\100669.pkl',\n",
       " './train/train\\\\10067.pkl',\n",
       " './train/train\\\\100670.pkl',\n",
       " './train/train\\\\100671.pkl',\n",
       " './train/train\\\\100672.pkl',\n",
       " './train/train\\\\100673.pkl',\n",
       " './train/train\\\\100674.pkl',\n",
       " './train/train\\\\100675.pkl',\n",
       " './train/train\\\\100676.pkl',\n",
       " './train/train\\\\100677.pkl',\n",
       " './train/train\\\\100678.pkl',\n",
       " './train/train\\\\100679.pkl',\n",
       " './train/train\\\\10068.pkl',\n",
       " './train/train\\\\100680.pkl',\n",
       " './train/train\\\\100681.pkl',\n",
       " './train/train\\\\100682.pkl',\n",
       " './train/train\\\\100683.pkl',\n",
       " './train/train\\\\100684.pkl',\n",
       " './train/train\\\\100685.pkl',\n",
       " './train/train\\\\100686.pkl',\n",
       " './train/train\\\\100687.pkl',\n",
       " './train/train\\\\100688.pkl',\n",
       " './train/train\\\\100689.pkl',\n",
       " './train/train\\\\10069.pkl',\n",
       " './train/train\\\\100690.pkl',\n",
       " './train/train\\\\100691.pkl',\n",
       " './train/train\\\\100692.pkl',\n",
       " './train/train\\\\100693.pkl',\n",
       " './train/train\\\\100694.pkl',\n",
       " './train/train\\\\100695.pkl',\n",
       " './train/train\\\\100696.pkl',\n",
       " './train/train\\\\100697.pkl',\n",
       " './train/train\\\\100698.pkl',\n",
       " './train/train\\\\100699.pkl',\n",
       " './train/train\\\\1007.pkl',\n",
       " './train/train\\\\10070.pkl',\n",
       " './train/train\\\\100700.pkl',\n",
       " './train/train\\\\100701.pkl',\n",
       " './train/train\\\\100702.pkl',\n",
       " './train/train\\\\100703.pkl',\n",
       " './train/train\\\\100704.pkl',\n",
       " './train/train\\\\100705.pkl',\n",
       " './train/train\\\\100706.pkl',\n",
       " './train/train\\\\100707.pkl',\n",
       " './train/train\\\\100708.pkl',\n",
       " './train/train\\\\100709.pkl',\n",
       " './train/train\\\\10071.pkl',\n",
       " './train/train\\\\100710.pkl',\n",
       " './train/train\\\\100711.pkl',\n",
       " './train/train\\\\100712.pkl',\n",
       " './train/train\\\\100713.pkl',\n",
       " './train/train\\\\100714.pkl',\n",
       " './train/train\\\\100715.pkl',\n",
       " './train/train\\\\100716.pkl',\n",
       " './train/train\\\\100717.pkl',\n",
       " './train/train\\\\100718.pkl',\n",
       " './train/train\\\\100719.pkl',\n",
       " './train/train\\\\10072.pkl',\n",
       " './train/train\\\\100720.pkl',\n",
       " './train/train\\\\100721.pkl',\n",
       " './train/train\\\\100722.pkl',\n",
       " './train/train\\\\100723.pkl',\n",
       " './train/train\\\\100724.pkl',\n",
       " './train/train\\\\100725.pkl',\n",
       " './train/train\\\\100726.pkl',\n",
       " './train/train\\\\100727.pkl',\n",
       " './train/train\\\\100728.pkl',\n",
       " './train/train\\\\100729.pkl',\n",
       " './train/train\\\\10073.pkl',\n",
       " './train/train\\\\100730.pkl',\n",
       " './train/train\\\\100731.pkl',\n",
       " './train/train\\\\100732.pkl',\n",
       " './train/train\\\\100733.pkl',\n",
       " './train/train\\\\100734.pkl',\n",
       " './train/train\\\\100735.pkl',\n",
       " './train/train\\\\100736.pkl',\n",
       " './train/train\\\\100737.pkl',\n",
       " './train/train\\\\100738.pkl',\n",
       " './train/train\\\\100739.pkl',\n",
       " './train/train\\\\10074.pkl',\n",
       " './train/train\\\\100740.pkl',\n",
       " './train/train\\\\100741.pkl',\n",
       " './train/train\\\\100742.pkl',\n",
       " './train/train\\\\100743.pkl',\n",
       " './train/train\\\\100744.pkl',\n",
       " './train/train\\\\100745.pkl',\n",
       " './train/train\\\\100746.pkl',\n",
       " './train/train\\\\100747.pkl',\n",
       " './train/train\\\\100748.pkl',\n",
       " './train/train\\\\100749.pkl',\n",
       " './train/train\\\\10075.pkl',\n",
       " './train/train\\\\100750.pkl',\n",
       " './train/train\\\\100751.pkl',\n",
       " './train/train\\\\100752.pkl',\n",
       " './train/train\\\\100753.pkl',\n",
       " './train/train\\\\100754.pkl',\n",
       " './train/train\\\\100755.pkl',\n",
       " './train/train\\\\100756.pkl',\n",
       " './train/train\\\\100757.pkl',\n",
       " './train/train\\\\100758.pkl',\n",
       " './train/train\\\\100759.pkl',\n",
       " './train/train\\\\10076.pkl',\n",
       " './train/train\\\\100760.pkl',\n",
       " './train/train\\\\100761.pkl',\n",
       " './train/train\\\\100762.pkl',\n",
       " './train/train\\\\100763.pkl',\n",
       " './train/train\\\\100764.pkl',\n",
       " './train/train\\\\100765.pkl',\n",
       " './train/train\\\\100766.pkl',\n",
       " './train/train\\\\100767.pkl',\n",
       " './train/train\\\\100768.pkl',\n",
       " './train/train\\\\100769.pkl',\n",
       " './train/train\\\\10077.pkl',\n",
       " './train/train\\\\100770.pkl',\n",
       " './train/train\\\\100771.pkl',\n",
       " './train/train\\\\100772.pkl',\n",
       " './train/train\\\\100773.pkl',\n",
       " './train/train\\\\100774.pkl',\n",
       " './train/train\\\\100775.pkl',\n",
       " './train/train\\\\100776.pkl',\n",
       " './train/train\\\\100777.pkl',\n",
       " './train/train\\\\100778.pkl',\n",
       " './train/train\\\\100779.pkl',\n",
       " './train/train\\\\10078.pkl',\n",
       " './train/train\\\\100780.pkl',\n",
       " './train/train\\\\100781.pkl',\n",
       " './train/train\\\\100782.pkl',\n",
       " './train/train\\\\100783.pkl',\n",
       " './train/train\\\\100784.pkl',\n",
       " './train/train\\\\100785.pkl',\n",
       " './train/train\\\\100786.pkl',\n",
       " './train/train\\\\100787.pkl',\n",
       " './train/train\\\\100788.pkl',\n",
       " './train/train\\\\100789.pkl',\n",
       " './train/train\\\\10079.pkl',\n",
       " './train/train\\\\100790.pkl',\n",
       " './train/train\\\\100791.pkl',\n",
       " './train/train\\\\100792.pkl',\n",
       " './train/train\\\\100793.pkl',\n",
       " './train/train\\\\100794.pkl',\n",
       " './train/train\\\\100795.pkl',\n",
       " './train/train\\\\100796.pkl',\n",
       " './train/train\\\\100797.pkl',\n",
       " './train/train\\\\100798.pkl',\n",
       " './train/train\\\\100799.pkl',\n",
       " './train/train\\\\1008.pkl',\n",
       " './train/train\\\\10080.pkl',\n",
       " './train/train\\\\100800.pkl',\n",
       " './train/train\\\\100801.pkl',\n",
       " './train/train\\\\100802.pkl',\n",
       " './train/train\\\\100803.pkl',\n",
       " './train/train\\\\100804.pkl',\n",
       " './train/train\\\\100805.pkl',\n",
       " './train/train\\\\100806.pkl',\n",
       " './train/train\\\\100807.pkl',\n",
       " './train/train\\\\100808.pkl',\n",
       " './train/train\\\\100809.pkl',\n",
       " './train/train\\\\10081.pkl',\n",
       " './train/train\\\\100810.pkl',\n",
       " './train/train\\\\100811.pkl',\n",
       " './train/train\\\\100812.pkl',\n",
       " './train/train\\\\100813.pkl',\n",
       " './train/train\\\\100814.pkl',\n",
       " './train/train\\\\100815.pkl',\n",
       " './train/train\\\\100816.pkl',\n",
       " './train/train\\\\100817.pkl',\n",
       " './train/train\\\\100818.pkl',\n",
       " './train/train\\\\100819.pkl',\n",
       " './train/train\\\\10082.pkl',\n",
       " './train/train\\\\100820.pkl',\n",
       " './train/train\\\\100821.pkl',\n",
       " './train/train\\\\100822.pkl',\n",
       " './train/train\\\\100823.pkl',\n",
       " './train/train\\\\100824.pkl',\n",
       " './train/train\\\\100825.pkl',\n",
       " './train/train\\\\100826.pkl',\n",
       " './train/train\\\\100827.pkl',\n",
       " './train/train\\\\100828.pkl',\n",
       " './train/train\\\\100829.pkl',\n",
       " './train/train\\\\10083.pkl',\n",
       " './train/train\\\\100830.pkl',\n",
       " './train/train\\\\100831.pkl',\n",
       " './train/train\\\\100832.pkl',\n",
       " './train/train\\\\100833.pkl',\n",
       " './train/train\\\\100834.pkl',\n",
       " './train/train\\\\100835.pkl',\n",
       " './train/train\\\\100836.pkl',\n",
       " './train/train\\\\100837.pkl',\n",
       " './train/train\\\\100838.pkl',\n",
       " './train/train\\\\100839.pkl',\n",
       " './train/train\\\\10084.pkl',\n",
       " './train/train\\\\100840.pkl',\n",
       " './train/train\\\\100841.pkl',\n",
       " './train/train\\\\100842.pkl',\n",
       " './train/train\\\\100843.pkl',\n",
       " './train/train\\\\100844.pkl',\n",
       " './train/train\\\\100845.pkl',\n",
       " './train/train\\\\100846.pkl',\n",
       " './train/train\\\\100847.pkl',\n",
       " './train/train\\\\100848.pkl',\n",
       " './train/train\\\\100849.pkl',\n",
       " './train/train\\\\10085.pkl',\n",
       " './train/train\\\\100850.pkl',\n",
       " './train/train\\\\100851.pkl',\n",
       " './train/train\\\\100852.pkl',\n",
       " './train/train\\\\100853.pkl',\n",
       " './train/train\\\\100854.pkl',\n",
       " './train/train\\\\100855.pkl',\n",
       " './train/train\\\\100856.pkl',\n",
       " './train/train\\\\100857.pkl',\n",
       " './train/train\\\\100858.pkl',\n",
       " './train/train\\\\100859.pkl',\n",
       " './train/train\\\\10086.pkl',\n",
       " './train/train\\\\100860.pkl',\n",
       " './train/train\\\\100861.pkl',\n",
       " './train/train\\\\100862.pkl',\n",
       " './train/train\\\\100863.pkl',\n",
       " './train/train\\\\100864.pkl',\n",
       " './train/train\\\\100865.pkl',\n",
       " './train/train\\\\100866.pkl',\n",
       " './train/train\\\\100867.pkl',\n",
       " './train/train\\\\100868.pkl',\n",
       " './train/train\\\\100869.pkl',\n",
       " './train/train\\\\10087.pkl',\n",
       " './train/train\\\\100870.pkl',\n",
       " './train/train\\\\100871.pkl',\n",
       " './train/train\\\\100872.pkl',\n",
       " './train/train\\\\100873.pkl',\n",
       " './train/train\\\\100874.pkl',\n",
       " './train/train\\\\100875.pkl',\n",
       " './train/train\\\\100876.pkl',\n",
       " './train/train\\\\100877.pkl',\n",
       " './train/train\\\\100878.pkl',\n",
       " './train/train\\\\100879.pkl',\n",
       " './train/train\\\\10088.pkl',\n",
       " './train/train\\\\100880.pkl',\n",
       " './train/train\\\\100881.pkl',\n",
       " './train/train\\\\100882.pkl',\n",
       " './train/train\\\\100883.pkl',\n",
       " './train/train\\\\100884.pkl',\n",
       " './train/train\\\\100885.pkl',\n",
       " './train/train\\\\100886.pkl',\n",
       " './train/train\\\\100887.pkl',\n",
       " './train/train\\\\100888.pkl',\n",
       " './train/train\\\\100889.pkl',\n",
       " './train/train\\\\10089.pkl',\n",
       " './train/train\\\\100890.pkl',\n",
       " './train/train\\\\100891.pkl',\n",
       " './train/train\\\\100892.pkl',\n",
       " './train/train\\\\100893.pkl',\n",
       " './train/train\\\\100894.pkl',\n",
       " './train/train\\\\100895.pkl',\n",
       " './train/train\\\\100896.pkl',\n",
       " ...]"
      ]
     },
     "execution_count": 4,
     "metadata": {},
     "output_type": "execute_result"
    }
   ],
   "source": [
    "train_pkl_lst"
   ]
  },
  {
   "cell_type": "code",
   "execution_count": 17,
   "metadata": {
    "colab": {
     "base_uri": "https://localhost:8080/",
     "height": 222
    },
    "executionInfo": {
     "elapsed": 1073,
     "status": "error",
     "timestamp": 1682201544351,
     "user": {
      "displayName": "Ashwin Muralidharan",
      "userId": "16158066834554772584"
     },
     "user_tz": 420
    },
    "id": "UDsXeahyZA2l",
    "outputId": "d4658b5c-b0b5-4eec-e434-898145338ee9"
   },
   "outputs": [],
   "source": [
    "train_path = \"./train/train\"\n",
    "# The glob module finds all the pathnames matching a specified pattern\n",
    "train_pkl_lst = glob(os.path.join(train_path, '*'))\n",
    "with open(train_pkl_lst[1], 'rb') as f:\n",
    "    training_sample = pickle.load(f)"
   ]
  },
  {
   "cell_type": "code",
   "execution_count": 3,
   "metadata": {
    "id": "pnBAf1tsZA2l",
    "outputId": "cfff4599-76e4-474c-c4ec-c09a17b4a998"
   },
   "outputs": [
    {
     "data": {
      "text/plain": [
       "dict_keys(['city', 'lane', 'lane_norm', 'scene_idx', 'agent_id', 'car_mask', 'p_in', 'v_in', 'p_out', 'v_out', 'track_id'])"
      ]
     },
     "execution_count": 3,
     "metadata": {},
     "output_type": "execute_result"
    }
   ],
   "source": [
    "# There are at most 60 agents/vehicles in a scene\n",
    "# 'agent_id' is the track id for the agent to be predicted in this scene\n",
    "training_sample.keys()"
   ]
  },
  {
   "cell_type": "code",
   "execution_count": 4,
   "metadata": {},
   "outputs": [
    {
     "data": {
      "text/plain": [
       "(60, 1)"
      ]
     },
     "execution_count": 4,
     "metadata": {},
     "output_type": "execute_result"
    }
   ],
   "source": [
    "training_sample['car_mask'].shape"
   ]
  },
  {
   "cell_type": "code",
   "execution_count": 5,
   "metadata": {},
   "outputs": [
    {
     "data": {
      "text/plain": [
       "array(['00000000-0000-0000-0000-000000000000',\n",
       "       '00000000-0000-0000-0000-000000000007',\n",
       "       '00000000-0000-0000-0000-000000000009',\n",
       "       '00000000-0000-0000-0000-000000000044',\n",
       "       '00000000-0000-0000-0000-000000000054',\n",
       "       '00000000-0000-0000-0000-000000000062'], dtype=object)"
      ]
     },
     "execution_count": 5,
     "metadata": {},
     "output_type": "execute_result"
    }
   ],
   "source": [
    "training_sample['track_id']"
   ]
  },
  {
   "cell_type": "code",
   "execution_count": 6,
   "metadata": {},
   "outputs": [
    {
     "data": {
      "text/plain": [
       "'00000000-0000-0000-0000-000000000062'"
      ]
     },
     "execution_count": 6,
     "metadata": {},
     "output_type": "execute_result"
    }
   ],
   "source": [
    "training_sample['agent_id']"
   ]
  },
  {
   "cell_type": "code",
   "execution_count": 7,
   "metadata": {},
   "outputs": [
    {
     "data": {
      "text/plain": [
       "(60, 19, 2)"
      ]
     },
     "execution_count": 7,
     "metadata": {},
     "output_type": "execute_result"
    }
   ],
   "source": [
    "training_sample['p_in'].shape"
   ]
  },
  {
   "cell_type": "code",
   "execution_count": 8,
   "metadata": {},
   "outputs": [
    {
     "data": {
      "text/plain": [
       "(60, 19, 2)"
      ]
     },
     "execution_count": 8,
     "metadata": {},
     "output_type": "execute_result"
    }
   ],
   "source": [
    "training_sample['v_in'].shape"
   ]
  },
  {
   "cell_type": "code",
   "execution_count": 9,
   "metadata": {},
   "outputs": [
    {
     "data": {
      "text/plain": [
       "(6,)"
      ]
     },
     "execution_count": 9,
     "metadata": {},
     "output_type": "execute_result"
    }
   ],
   "source": [
    "training_sample['track_id'].shape"
   ]
  },
  {
   "cell_type": "code",
   "execution_count": 10,
   "metadata": {},
   "outputs": [
    {
     "data": {
      "text/plain": [
       "6.0"
      ]
     },
     "execution_count": 10,
     "metadata": {},
     "output_type": "execute_result"
    }
   ],
   "source": [
    "np.sum(training_sample['car_mask'])"
   ]
  },
  {
   "cell_type": "code",
   "execution_count": 11,
   "metadata": {},
   "outputs": [],
   "source": [
    "# training_sample['v_in']"
   ]
  },
  {
   "cell_type": "code",
   "execution_count": 12,
   "metadata": {
    "id": "rf0Qi_0hZA2m",
    "outputId": "2bcc8816-b516-4bd8-9605-2fa81022e236"
   },
   "outputs": [
    {
     "data": {
      "text/plain": [
       "'00000000-0000-0000-0000-000000000062'"
      ]
     },
     "execution_count": 12,
     "metadata": {},
     "output_type": "execute_result"
    }
   ],
   "source": [
    "training_sample['agent_id']"
   ]
  },
  {
   "cell_type": "code",
   "execution_count": 13,
   "metadata": {
    "id": "0qVwLPwCZA2m",
    "outputId": "7518cf2d-fe28-466b-c931-a90b8e70a9d4"
   },
   "outputs": [
    {
     "data": {
      "text/plain": [
       "(60, 19, 2)"
      ]
     },
     "execution_count": 13,
     "metadata": {},
     "output_type": "execute_result"
    }
   ],
   "source": [
    "training_sample['p_in'].shape"
   ]
  },
  {
   "cell_type": "code",
   "execution_count": 14,
   "metadata": {
    "id": "z7GoyZs2ZA2m",
    "outputId": "49068931-085c-494c-c7c0-463863b6bd4b"
   },
   "outputs": [
    {
     "data": {
      "text/plain": [
       "(72, 2)"
      ]
     },
     "execution_count": 14,
     "metadata": {},
     "output_type": "execute_result"
    }
   ],
   "source": [
    "training_sample['lane'].shape"
   ]
  },
  {
   "cell_type": "code",
   "execution_count": 15,
   "metadata": {},
   "outputs": [
    {
     "data": {
      "text/plain": [
       "(60, 30, 2)"
      ]
     },
     "execution_count": 15,
     "metadata": {},
     "output_type": "execute_result"
    }
   ],
   "source": [
    "training_sample['p_out'].shape"
   ]
  },
  {
   "cell_type": "code",
   "execution_count": 113,
   "metadata": {},
   "outputs": [],
   "source": [
    "with open(train_pkl_lst[200000], 'rb') as f:\n",
    "    training_sample = pickle.load(f)"
   ]
  },
  {
   "cell_type": "code",
   "execution_count": 116,
   "metadata": {},
   "outputs": [
    {
     "data": {
      "text/plain": [
       "(60, 19, 2)"
      ]
     },
     "execution_count": 116,
     "metadata": {},
     "output_type": "execute_result"
    }
   ],
   "source": [
    "training_sample['p_in'].shape"
   ]
  },
  {
   "cell_type": "code",
   "execution_count": 118,
   "metadata": {},
   "outputs": [
    {
     "data": {
      "text/plain": [
       "array([795.96374512, 795.93823242, 795.92010498, 795.92895508,\n",
       "       795.89105225, 795.94403076, 795.92120361, 795.9296875 ,\n",
       "       795.94720459, 795.89221191, 795.92340088, 795.93579102,\n",
       "       795.94537354, 795.92169189, 795.96313477, 795.93151855,\n",
       "       795.92889404, 795.86523438, 795.92303467])"
      ]
     },
     "execution_count": 118,
     "metadata": {},
     "output_type": "execute_result"
    }
   ],
   "source": [
    "training_sample['p_in'][1,:,0]"
   ]
  },
  {
   "cell_type": "code",
   "execution_count": 114,
   "metadata": {
    "id": "QTRPNHLoZA2n",
    "outputId": "ef2765e8-18f0-48cb-b55b-37fcb80b1616",
    "tags": []
   },
   "outputs": [
    {
     "data": {
      "image/png": "[encoded data removed]",
      "text/plain": [
       "<Figure size 640x480 with 1 Axes>"
      ]
     },
     "metadata": {},
     "output_type": "display_data"
    }
   ],
   "source": [
    "plt.scatter(training_sample['lane'][:,0], training_sample['lane'][:,1], alpha=0.5, label = \"Lanes\", color = \"black\")\n",
    "\n",
    "plt.scatter(training_sample['p_in'][1,:,0], training_sample['p_in'][1,:,1], alpha=0.5, label = \"Input Traj\", color = \"red\")\n",
    "plt.scatter(training_sample['p_out'][1,:,0], training_sample['p_out'][1,:,1], alpha=0.5, label = \"Output Traj\", color = \"blue\")\n",
    "\n",
    "plt.legend()\n",
    "plt.xticks([])\n",
    "plt.yticks([])\n",
    "plt.show()"
   ]
  },
  {
   "cell_type": "markdown",
   "metadata": {
    "id": "VaFPOAW7ZA2n"
   },
   "source": [
    "# Examining the submission format"
   ]
  },
  {
   "cell_type": "code",
   "execution_count": 19,
   "metadata": {
    "id": "MeJVpoCdZA2n"
   },
   "outputs": [],
   "source": [
    "test_path = \"./val_in/val_in/\"\n",
    "test_pkl_list = glob(os.path.join(test_path, '*'))\n",
    "test_pkl_list.sort()\n",
    "with open(test_pkl_list[0], 'rb') as f:\n",
    "    test_sample = pickle.load(f)"
   ]
  },
  {
   "cell_type": "code",
   "execution_count": 20,
   "metadata": {
    "id": "d0rdxUDRZA2o",
    "outputId": "fe735cf9-bf9f-44a7-f8c9-f9265b8e0a67"
   },
   "outputs": [
    {
     "data": {
      "text/plain": [
       "dict_keys(['city', 'lane', 'lane_norm', 'scene_idx', 'agent_id', 'car_mask', 'p_in', 'v_in', 'track_id'])"
      ]
     },
     "execution_count": 20,
     "metadata": {},
     "output_type": "execute_result"
    }
   ],
   "source": [
    "test_sample.keys()"
   ]
  },
  {
   "cell_type": "code",
   "execution_count": 21,
   "metadata": {
    "id": "SaHjHJawZA2o",
    "outputId": "b44e99ff-e8dc-47d4-cfd3-e479725a91be"
   },
   "outputs": [
    {
     "ename": "NameError",
     "evalue": "name 'test_inps' is not defined",
     "output_type": "error",
     "traceback": [
      "\u001b[1;31m---------------------------------------------------------------------------\u001b[0m",
      "\u001b[1;31mNameError\u001b[0m                                 Traceback (most recent call last)",
      "Cell \u001b[1;32mIn[21], line 1\u001b[0m\n\u001b[1;32m----> 1\u001b[0m \u001b[43mtest_inps\u001b[49m[\u001b[38;5;241m0\u001b[39m][\u001b[38;5;124m'\u001b[39m\u001b[38;5;124mp_in\u001b[39m\u001b[38;5;124m'\u001b[39m]\u001b[38;5;241m.\u001b[39mshape\n",
      "\u001b[1;31mNameError\u001b[0m: name 'test_inps' is not defined"
     ]
    }
   ],
   "source": [
    "test_inps[0]['p_in'].shape"
   ]
  },
  {
   "cell_type": "code",
   "execution_count": null,
   "metadata": {
    "id": "f-SGvOaxZA2o",
    "outputId": "0a1a5934-88af-487c-f869-b9cceb22d234"
   },
   "outputs": [
    {
     "data": {
      "text/html": [
       "<div>\n",
       "<style scoped>\n",
       "    .dataframe tbody tr th:only-of-type {\n",
       "        vertical-align: middle;\n",
       "    }\n",
       "\n",
       "    .dataframe tbody tr th {\n",
       "        vertical-align: top;\n",
       "    }\n",
       "\n",
       "    .dataframe thead th {\n",
       "        text-align: right;\n",
       "    }\n",
       "</style>\n",
       "<table border=\"1\" class=\"dataframe\">\n",
       "  <thead>\n",
       "    <tr style=\"text-align: right;\">\n",
       "      <th></th>\n",
       "      <th>ID</th>\n",
       "      <th>v1</th>\n",
       "      <th>v2</th>\n",
       "      <th>v3</th>\n",
       "      <th>v4</th>\n",
       "      <th>v5</th>\n",
       "      <th>v6</th>\n",
       "      <th>v7</th>\n",
       "      <th>v8</th>\n",
       "      <th>v9</th>\n",
       "      <th>...</th>\n",
       "      <th>v51</th>\n",
       "      <th>v52</th>\n",
       "      <th>v53</th>\n",
       "      <th>v54</th>\n",
       "      <th>v55</th>\n",
       "      <th>v56</th>\n",
       "      <th>v57</th>\n",
       "      <th>v58</th>\n",
       "      <th>v59</th>\n",
       "      <th>v60</th>\n",
       "    </tr>\n",
       "  </thead>\n",
       "  <tbody>\n",
       "    <tr>\n",
       "      <th>0</th>\n",
       "      <td>10002</td>\n",
       "      <td>0.0</td>\n",
       "      <td>0.0</td>\n",
       "      <td>0.0</td>\n",
       "      <td>0.0</td>\n",
       "      <td>0.0</td>\n",
       "      <td>0.0</td>\n",
       "      <td>0.0</td>\n",
       "      <td>0.0</td>\n",
       "      <td>0.0</td>\n",
       "      <td>...</td>\n",
       "      <td>0.0</td>\n",
       "      <td>0.0</td>\n",
       "      <td>0.0</td>\n",
       "      <td>0.0</td>\n",
       "      <td>0.0</td>\n",
       "      <td>0.0</td>\n",
       "      <td>0.0</td>\n",
       "      <td>0.0</td>\n",
       "      <td>0.0</td>\n",
       "      <td>0.0</td>\n",
       "    </tr>\n",
       "    <tr>\n",
       "      <th>1</th>\n",
       "      <td>10015</td>\n",
       "      <td>0.0</td>\n",
       "      <td>0.0</td>\n",
       "      <td>0.0</td>\n",
       "      <td>0.0</td>\n",
       "      <td>0.0</td>\n",
       "      <td>0.0</td>\n",
       "      <td>0.0</td>\n",
       "      <td>0.0</td>\n",
       "      <td>0.0</td>\n",
       "      <td>...</td>\n",
       "      <td>0.0</td>\n",
       "      <td>0.0</td>\n",
       "      <td>0.0</td>\n",
       "      <td>0.0</td>\n",
       "      <td>0.0</td>\n",
       "      <td>0.0</td>\n",
       "      <td>0.0</td>\n",
       "      <td>0.0</td>\n",
       "      <td>0.0</td>\n",
       "      <td>0.0</td>\n",
       "    </tr>\n",
       "    <tr>\n",
       "      <th>2</th>\n",
       "      <td>10019</td>\n",
       "      <td>0.0</td>\n",
       "      <td>0.0</td>\n",
       "      <td>0.0</td>\n",
       "      <td>0.0</td>\n",
       "      <td>0.0</td>\n",
       "      <td>0.0</td>\n",
       "      <td>0.0</td>\n",
       "      <td>0.0</td>\n",
       "      <td>0.0</td>\n",
       "      <td>...</td>\n",
       "      <td>0.0</td>\n",
       "      <td>0.0</td>\n",
       "      <td>0.0</td>\n",
       "      <td>0.0</td>\n",
       "      <td>0.0</td>\n",
       "      <td>0.0</td>\n",
       "      <td>0.0</td>\n",
       "      <td>0.0</td>\n",
       "      <td>0.0</td>\n",
       "      <td>0.0</td>\n",
       "    </tr>\n",
       "    <tr>\n",
       "      <th>3</th>\n",
       "      <td>10028</td>\n",
       "      <td>0.0</td>\n",
       "      <td>0.0</td>\n",
       "      <td>0.0</td>\n",
       "      <td>0.0</td>\n",
       "      <td>0.0</td>\n",
       "      <td>0.0</td>\n",
       "      <td>0.0</td>\n",
       "      <td>0.0</td>\n",
       "      <td>0.0</td>\n",
       "      <td>...</td>\n",
       "      <td>0.0</td>\n",
       "      <td>0.0</td>\n",
       "      <td>0.0</td>\n",
       "      <td>0.0</td>\n",
       "      <td>0.0</td>\n",
       "      <td>0.0</td>\n",
       "      <td>0.0</td>\n",
       "      <td>0.0</td>\n",
       "      <td>0.0</td>\n",
       "      <td>0.0</td>\n",
       "    </tr>\n",
       "    <tr>\n",
       "      <th>4</th>\n",
       "      <td>1003</td>\n",
       "      <td>0.0</td>\n",
       "      <td>0.0</td>\n",
       "      <td>0.0</td>\n",
       "      <td>0.0</td>\n",
       "      <td>0.0</td>\n",
       "      <td>0.0</td>\n",
       "      <td>0.0</td>\n",
       "      <td>0.0</td>\n",
       "      <td>0.0</td>\n",
       "      <td>...</td>\n",
       "      <td>0.0</td>\n",
       "      <td>0.0</td>\n",
       "      <td>0.0</td>\n",
       "      <td>0.0</td>\n",
       "      <td>0.0</td>\n",
       "      <td>0.0</td>\n",
       "      <td>0.0</td>\n",
       "      <td>0.0</td>\n",
       "      <td>0.0</td>\n",
       "      <td>0.0</td>\n",
       "    </tr>\n",
       "  </tbody>\n",
       "</table>\n",
       "<p>5 rows × 61 columns</p>\n",
       "</div>"
      ],
      "text/plain": [
       "      ID   v1   v2   v3   v4   v5   v6   v7   v8   v9  ...  v51  v52  v53  \\\n",
       "0  10002  0.0  0.0  0.0  0.0  0.0  0.0  0.0  0.0  0.0  ...  0.0  0.0  0.0   \n",
       "1  10015  0.0  0.0  0.0  0.0  0.0  0.0  0.0  0.0  0.0  ...  0.0  0.0  0.0   \n",
       "2  10019  0.0  0.0  0.0  0.0  0.0  0.0  0.0  0.0  0.0  ...  0.0  0.0  0.0   \n",
       "3  10028  0.0  0.0  0.0  0.0  0.0  0.0  0.0  0.0  0.0  ...  0.0  0.0  0.0   \n",
       "4   1003  0.0  0.0  0.0  0.0  0.0  0.0  0.0  0.0  0.0  ...  0.0  0.0  0.0   \n",
       "\n",
       "   v54  v55  v56  v57  v58  v59  v60  \n",
       "0  0.0  0.0  0.0  0.0  0.0  0.0  0.0  \n",
       "1  0.0  0.0  0.0  0.0  0.0  0.0  0.0  \n",
       "2  0.0  0.0  0.0  0.0  0.0  0.0  0.0  \n",
       "3  0.0  0.0  0.0  0.0  0.0  0.0  0.0  \n",
       "4  0.0  0.0  0.0  0.0  0.0  0.0  0.0  \n",
       "\n",
       "[5 rows x 61 columns]"
      ]
     },
     "execution_count": 12,
     "metadata": {},
     "output_type": "execute_result"
    }
   ],
   "source": [
    "# Submission Files: a sample submission file in the correct format\n",
    "# 30-step ahead predictions of positions. \n",
    "sample_sub = pd.read_csv('sample_submission.csv')\n",
    "sample_sub.head()"
   ]
  },
  {
   "cell_type": "code",
   "execution_count": null,
   "metadata": {
    "id": "fPbM3hOIZA2o"
   },
   "outputs": [],
   "source": [
    "predictions = np.random.randn(3200, 60)"
   ]
  },
  {
   "cell_type": "code",
   "execution_count": null,
   "metadata": {
    "id": "_yZZ3Q4qZA2o",
    "outputId": "08c6a7f7-7b8f-4f69-bcac-9748036f8ab2"
   },
   "outputs": [
    {
     "data": {
      "text/plain": [
       "RangeIndex(start=0, stop=3200, step=1)"
      ]
     },
     "execution_count": 33,
     "metadata": {},
     "output_type": "execute_result"
    }
   ],
   "source": [
    "sub_df = pd.DataFrame(np.c_[sample_sub[\"ID\"], predictions], columns=[np.r_[[\"ID\"], [\"v\" + str(i) for i in range(1,61)]]])\n",
    "sub_df.to_csv('test_submission.csv', index=None)"
   ]
  },
  {
   "cell_type": "markdown",
   "metadata": {},
   "source": [
    "### EDA"
   ]
  },
  {
   "cell_type": "code",
   "execution_count": 22,
   "metadata": {},
   "outputs": [
    {
     "data": {
      "text/plain": [
       "11"
      ]
     },
     "execution_count": 22,
     "metadata": {},
     "output_type": "execute_result"
    }
   ],
   "source": [
    "len(training_sample)"
   ]
  },
  {
   "cell_type": "code",
   "execution_count": 23,
   "metadata": {},
   "outputs": [
    {
     "data": {
      "text/plain": [
       "205942"
      ]
     },
     "execution_count": 23,
     "metadata": {},
     "output_type": "execute_result"
    }
   ],
   "source": [
    "len(train_pkl_lst)"
   ]
  },
  {
   "cell_type": "code",
   "execution_count": 24,
   "metadata": {},
   "outputs": [
    {
     "data": {
      "text/plain": [
       "(60, 19, 2)"
      ]
     },
     "execution_count": 24,
     "metadata": {},
     "output_type": "execute_result"
    }
   ],
   "source": [
    "training_sample['v_in'].shape"
   ]
  },
  {
   "cell_type": "code",
   "execution_count": 25,
   "metadata": {},
   "outputs": [
    {
     "name": "stderr",
     "output_type": "stream",
     "text": [
      "  2%|█▌                                                                         | 4413/205942 [00:31<23:39, 141.98it/s]\n"
     ]
    },
    {
     "ename": "KeyboardInterrupt",
     "evalue": "",
     "output_type": "error",
     "traceback": [
      "\u001b[1;31m---------------------------------------------------------------------------\u001b[0m",
      "\u001b[1;31mKeyboardInterrupt\u001b[0m                         Traceback (most recent call last)",
      "Cell \u001b[1;32mIn[25], line 10\u001b[0m\n\u001b[0;32m      7\u001b[0m         \u001b[38;5;28;01mcontinue\u001b[39;00m\n\u001b[0;32m      9\u001b[0m     v_avg \u001b[38;5;241m=\u001b[39m np\u001b[38;5;241m.\u001b[39mmean(train_sample[\u001b[38;5;124m'\u001b[39m\u001b[38;5;124mv_in\u001b[39m\u001b[38;5;124m'\u001b[39m], axis\u001b[38;5;241m=\u001b[39m\u001b[38;5;241m1\u001b[39m)\u001b[38;5;241m.\u001b[39mreshape(train_sample[\u001b[38;5;124m'\u001b[39m\u001b[38;5;124mv_in\u001b[39m\u001b[38;5;124m'\u001b[39m]\u001b[38;5;241m.\u001b[39mshape[\u001b[38;5;241m0\u001b[39m], \u001b[38;5;241m1\u001b[39m, train_sample[\u001b[38;5;124m'\u001b[39m\u001b[38;5;124mv_in\u001b[39m\u001b[38;5;124m'\u001b[39m]\u001b[38;5;241m.\u001b[39mshape[\u001b[38;5;241m2\u001b[39m])\n\u001b[1;32m---> 10\u001b[0m     v_avgs \u001b[38;5;241m=\u001b[39m \u001b[43mnp\u001b[49m\u001b[38;5;241;43m.\u001b[39;49m\u001b[43mconcatenate\u001b[49m\u001b[43m(\u001b[49m\u001b[43m(\u001b[49m\u001b[43mv_avgs\u001b[49m\u001b[43m,\u001b[49m\u001b[43m \u001b[49m\u001b[43mv_avg\u001b[49m\u001b[43m)\u001b[49m\u001b[43m,\u001b[49m\u001b[43m \u001b[49m\u001b[43maxis\u001b[49m\u001b[38;5;241;43m=\u001b[39;49m\u001b[38;5;241;43m1\u001b[39;49m\u001b[43m)\u001b[49m\n\u001b[0;32m     11\u001b[0m     \u001b[38;5;66;03m#print(train_sample['v_in'].shape)\u001b[39;00m\n\u001b[0;32m     12\u001b[0m     \n\u001b[0;32m     13\u001b[0m     \u001b[38;5;66;03m#break\u001b[39;00m\n\u001b[0;32m     14\u001b[0m \u001b[38;5;28mprint\u001b[39m(v_avg\u001b[38;5;241m.\u001b[39mshape)\n",
      "File \u001b[1;32m<__array_function__ internals>:200\u001b[0m, in \u001b[0;36mconcatenate\u001b[1;34m(*args, **kwargs)\u001b[0m\n",
      "\u001b[1;31mKeyboardInterrupt\u001b[0m: "
     ]
    }
   ],
   "source": [
    "for i in tqdm(range(len(train_pkl_lst))): \n",
    "    with open(train_pkl_lst[i], 'rb') as f:\n",
    "        train_sample = pickle.load(f)\n",
    "\n",
    "    if i == 0: \n",
    "        v_avgs = np.mean(train_sample['v_in'], axis=1).reshape(train_sample['v_in'].shape[0], 1, train_sample['v_in'].shape[2])\n",
    "        continue\n",
    "        \n",
    "    v_avg = np.mean(train_sample['v_in'], axis=1).reshape(train_sample['v_in'].shape[0], 1, train_sample['v_in'].shape[2])\n",
    "    v_avgs = np.concatenate((v_avgs, v_avg), axis=1)\n",
    "    #print(train_sample['v_in'].shape)\n",
    "    \n",
    "    #break\n",
    "print(v_avg.shape)\n",
    "print(v_avgs.shape)"
   ]
  },
  {
   "cell_type": "code",
   "execution_count": 49,
   "metadata": {},
   "outputs": [
    {
     "data": {
      "text/plain": [
       "array([[ 3.02954684e-05, -1.38405192e-04],\n",
       "       [ 6.85073006e-03,  1.27191015e-02],\n",
       "       [-7.99223079e+00, -7.39570931e+00],\n",
       "       ...,\n",
       "       [-8.23113051e-03, -2.34737193e-01],\n",
       "       [-4.38414148e-04,  1.91265939e-05],\n",
       "       [ 4.50739776e+00,  4.35620814e+00]])"
      ]
     },
     "execution_count": 49,
     "metadata": {},
     "output_type": "execute_result"
    }
   ],
   "source": [
    "v_avgs[0, :, :]"
   ]
  },
  {
   "cell_type": "code",
   "execution_count": 52,
   "metadata": {},
   "outputs": [
    {
     "data": {
      "text/plain": [
       "(array([[0., 0., 0., ..., 0., 0., 0.],\n",
       "        [0., 0., 0., ..., 0., 0., 0.],\n",
       "        [0., 0., 0., ..., 0., 0., 0.],\n",
       "        ...,\n",
       "        [0., 0., 0., ..., 0., 0., 0.],\n",
       "        [0., 0., 0., ..., 0., 0., 0.],\n",
       "        [0., 0., 0., ..., 0., 0., 0.]]),\n",
       " array([-25.12869403, -20.75853806, -16.38838208, -12.0182261 ,\n",
       "         -7.64807012,  -3.27791415,   1.09224183,   5.46239781,\n",
       "          9.83255378,  14.20270976,  18.57286574]),\n",
       " <a list of 1424 BarContainer objects>)"
      ]
     },
     "execution_count": 52,
     "metadata": {},
     "output_type": "execute_result"
    },
    {
     "data": {
      "image/png": "[encoded data removed]",
      "text/plain": [
       "<Figure size 640x480 with 1 Axes>"
      ]
     },
     "metadata": {},
     "output_type": "display_data"
    }
   ],
   "source": [
    "plt.hist(v_avgs[:, :, 0])"
   ]
  },
  {
   "cell_type": "code",
   "execution_count": null,
   "metadata": {},
   "outputs": [],
   "source": [
    "v_avgs"
   ]
  },
  {
   "cell_type": "code",
   "execution_count": 29,
   "metadata": {},
   "outputs": [],
   "source": [
    "# np.mean(train_sample['v_in'], axis=1)"
   ]
  }
 ],
 "metadata": {
  "colab": {
   "provenance": []
  },
  "kernelspec": {
   "display_name": "Python 3 (ipykernel)",
   "language": "python",
   "name": "python3"
  },
  "language_info": {
   "codemirror_mode": {
    "name": "ipython",
    "version": 3
   },
   "file_extension": ".py",
   "mimetype": "text/x-python",
   "name": "python",
   "nbconvert_exporter": "python",
   "pygments_lexer": "ipython3",
   "version": "3.8.16"
  }
 },
 "nbformat": 4,
 "nbformat_minor": 1
}
