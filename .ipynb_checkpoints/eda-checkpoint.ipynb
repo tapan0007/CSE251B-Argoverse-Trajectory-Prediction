{
 "cells": [
  {
   "cell_type": "code",
   "execution_count": 1,
   "metadata": {
    "id": "_xqyi_wWZA2h",
    "tags": []
   },
   "outputs": [],
   "source": [
    "import torch\n",
    "from torch.utils.data import Dataset, DataLoader\n",
    "import os, os.path \n",
    "import numpy as np\n",
    "import pickle\n",
    "from glob import glob\n",
    "import pandas as pd\n",
    "import matplotlib.pyplot as plt\n",
    "import matplotlib\n",
    "from tqdm import tqdm"
   ]
  },
  {
   "cell_type": "markdown",
   "metadata": {
    "id": "vSLc8oXIZA2k",
    "tags": []
   },
   "source": [
    "# Load training data"
   ]
  },
  {
   "cell_type": "code",
   "execution_count": 2,
   "metadata": {
    "colab": {
     "base_uri": "https://localhost:8080/",
     "height": 222
    },
    "id": "UDsXeahyZA2l",
    "outputId": "d4658b5c-b0b5-4eec-e434-898145338ee9",
    "tags": []
   },
   "outputs": [
    {
     "name": "stderr",
     "output_type": "stream",
     "text": [
      "100%|█████████████████████████████████████████████████████████████████████████████| 1000/1000 [00:05<00:00, 177.40it/s]\n"
     ]
    }
   ],
   "source": [
    "train_path = \"./train/train\"\n",
    "# train_path = \"./val_in/val_in\"\n",
    "training_samples = []\n",
    "datalen = 1000\n",
    "# The glob module finds all the pathnames matching a specified pattern\n",
    "train_pkl_lst = glob(os.path.join(train_path, '*'))\n",
    "for i in tqdm(range(datalen)):\n",
    "    with open(train_pkl_lst[i], 'rb') as f:\n",
    "        training_samples.append(pickle.load(f))"
   ]
  },
  {
   "cell_type": "code",
   "execution_count": 7,
   "metadata": {},
   "outputs": [],
   "source": [
    "with open(train_pkl_lst[0], 'rb') as f:\n",
    "    training_sample = pickle.load(f)"
   ]
  },
  {
   "cell_type": "code",
   "execution_count": 3,
   "metadata": {
    "tags": []
   },
   "outputs": [
    {
     "name": "stdout",
     "output_type": "stream",
     "text": [
      "(1000,)\n"
     ]
    }
   ],
   "source": [
    "training_samples = np.array(training_samples)\n",
    "print(training_samples.shape)"
   ]
  },
  {
   "cell_type": "code",
   "execution_count": 8,
   "metadata": {
    "tags": []
   },
   "outputs": [
    {
     "data": {
      "text/plain": [
       "dict_keys(['city', 'lane', 'lane_norm', 'scene_idx', 'agent_id', 'car_mask', 'p_in', 'v_in', 'p_out', 'v_out', 'track_id'])"
      ]
     },
     "execution_count": 8,
     "metadata": {},
     "output_type": "execute_result"
    }
   ],
   "source": [
    "training_sample.keys()"
   ]
  },
  {
   "cell_type": "code",
   "execution_count": 9,
   "metadata": {},
   "outputs": [
    {
     "data": {
      "text/plain": [
       "'PIT'"
      ]
     },
     "execution_count": 9,
     "metadata": {},
     "output_type": "execute_result"
    }
   ],
   "source": [
    "training_sample['city']"
   ]
  },
  {
   "cell_type": "code",
   "execution_count": 11,
   "metadata": {},
   "outputs": [
    {
     "data": {
      "text/plain": [
       "(72, 2)"
      ]
     },
     "execution_count": 11,
     "metadata": {},
     "output_type": "execute_result"
    }
   ],
   "source": [
    "training_sample['lane'].shape"
   ]
  },
  {
   "cell_type": "code",
   "execution_count": 13,
   "metadata": {},
   "outputs": [
    {
     "data": {
      "text/plain": [
       "(72, 2)"
      ]
     },
     "execution_count": 13,
     "metadata": {},
     "output_type": "execute_result"
    }
   ],
   "source": [
    "training_sample['lane_norm'].shape"
   ]
  },
  {
   "cell_type": "code",
   "execution_count": 15,
   "metadata": {},
   "outputs": [
    {
     "data": {
      "text/plain": [
       "0"
      ]
     },
     "execution_count": 15,
     "metadata": {},
     "output_type": "execute_result"
    }
   ],
   "source": [
    "training_sample['scene_idx']"
   ]
  },
  {
   "cell_type": "code",
   "execution_count": 16,
   "metadata": {},
   "outputs": [
    {
     "data": {
      "text/plain": [
       "'00000000-0000-0000-0000-000000000062'"
      ]
     },
     "execution_count": 16,
     "metadata": {},
     "output_type": "execute_result"
    }
   ],
   "source": [
    "training_sample['agent_id']"
   ]
  },
  {
   "cell_type": "code",
   "execution_count": 18,
   "metadata": {},
   "outputs": [
    {
     "data": {
      "text/plain": [
       "(60, 1)"
      ]
     },
     "execution_count": 18,
     "metadata": {},
     "output_type": "execute_result"
    }
   ],
   "source": [
    "training_sample['car_mask'].shape"
   ]
  },
  {
   "cell_type": "code",
   "execution_count": 19,
   "metadata": {},
   "outputs": [
    {
     "data": {
      "text/plain": [
       "(60, 19, 2)"
      ]
     },
     "execution_count": 19,
     "metadata": {},
     "output_type": "execute_result"
    }
   ],
   "source": [
    "training_sample['p_in'].shape"
   ]
  },
  {
   "cell_type": "code",
   "execution_count": 20,
   "metadata": {},
   "outputs": [
    {
     "data": {
      "text/plain": [
       "(60, 19, 2)"
      ]
     },
     "execution_count": 20,
     "metadata": {},
     "output_type": "execute_result"
    }
   ],
   "source": [
    "training_sample['v_in'].shape"
   ]
  },
  {
   "cell_type": "code",
   "execution_count": 21,
   "metadata": {},
   "outputs": [
    {
     "data": {
      "text/plain": [
       "(60, 30, 2)"
      ]
     },
     "execution_count": 21,
     "metadata": {},
     "output_type": "execute_result"
    }
   ],
   "source": [
    "training_sample['p_out'].shape"
   ]
  },
  {
   "cell_type": "code",
   "execution_count": 22,
   "metadata": {},
   "outputs": [
    {
     "data": {
      "text/plain": [
       "(60, 30, 2)"
      ]
     },
     "execution_count": 22,
     "metadata": {},
     "output_type": "execute_result"
    }
   ],
   "source": [
    "training_sample['v_out'].shape"
   ]
  },
  {
   "cell_type": "code",
   "execution_count": 23,
   "metadata": {},
   "outputs": [
    {
     "data": {
      "text/plain": [
       "array(['00000000-0000-0000-0000-000000000000',\n",
       "       '00000000-0000-0000-0000-000000000007',\n",
       "       '00000000-0000-0000-0000-000000000009',\n",
       "       '00000000-0000-0000-0000-000000000044',\n",
       "       '00000000-0000-0000-0000-000000000054',\n",
       "       '00000000-0000-0000-0000-000000000062'], dtype=object)"
      ]
     },
     "execution_count": 23,
     "metadata": {},
     "output_type": "execute_result"
    }
   ],
   "source": [
    "training_sample['track_id']"
   ]
  },
  {
   "cell_type": "code",
   "execution_count": 6,
   "metadata": {
    "tags": []
   },
   "outputs": [
    {
     "name": "stdout",
     "output_type": "stream",
     "text": [
      "['PIT' 'MIA']\n"
     ]
    }
   ],
   "source": [
    "cities_arr = []\n",
    "for i in range(len(training_samples)):\n",
    "    cities_arr.append(training_samples[i]['city'])\n",
    "cities_df = pd.DataFrame(cities_arr)\n",
    "print(cities_df[0].unique())"
   ]
  },
  {
   "cell_type": "code",
   "execution_count": 192,
   "metadata": {
    "tags": []
   },
   "outputs": [],
   "source": [
    "# city can be either 'PIT' or 'MIA'\n",
    "# replace with binary representation\n",
    "# PIT is 0, MIA is 1\n",
    "for i in range(training_samples.shape[0]):\n",
    "    if training_samples[i]['city'] == 'PIT':\n",
    "        training_samples[i]['city'] = 0\n",
    "    elif training_samples[i]['city'] == 'MIA':\n",
    "        training_samples[i]['city'] = 1"
   ]
  },
  {
   "cell_type": "code",
   "execution_count": 193,
   "metadata": {
    "tags": []
   },
   "outputs": [
    {
     "name": "stdout",
     "output_type": "stream",
     "text": [
      "[1 0]\n"
     ]
    }
   ],
   "source": [
    "cities_arr = []\n",
    "for i in range(training_samples.shape[0]):\n",
    "    cities_arr.append(training_samples[i]['city'])\n",
    "cities_df = pd.DataFrame(cities_arr)\n",
    "print(cities_df[0].unique())"
   ]
  },
  {
   "cell_type": "code",
   "execution_count": 194,
   "metadata": {
    "tags": []
   },
   "outputs": [
    {
     "name": "stdout",
     "output_type": "stream",
     "text": [
      "(205942,)\n"
     ]
    }
   ],
   "source": [
    "# scene index gives us no information so it can be dropped\n",
    "scene_idx_arr = []\n",
    "for i in range(training_samples.shape[0]):\n",
    "    scene_idx_arr.append(training_samples[i]['scene_idx'])\n",
    "scene_idx_df = pd.DataFrame(scene_idx_arr)\n",
    "print(scene_idx_df[0].unique().shape)"
   ]
  },
  {
   "cell_type": "code",
   "execution_count": 195,
   "metadata": {
    "tags": []
   },
   "outputs": [],
   "source": [
    "# drop scene_idx\n",
    "for i in range(training_samples.shape[0]):\n",
    "    del training_samples[i]['scene_idx']"
   ]
  },
  {
   "cell_type": "code",
   "execution_count": 196,
   "metadata": {
    "tags": []
   },
   "outputs": [
    {
     "ename": "KeyError",
     "evalue": "'scene_idx'",
     "output_type": "error",
     "traceback": [
      "\u001b[0;31m---------------------------------------------------------------------------\u001b[0m",
      "\u001b[0;31mKeyError\u001b[0m                                  Traceback (most recent call last)",
      "\u001b[0;32m/var/folders/_3/hl68jd8d5_37gmc5q_92ntzw0000gn/T/ipykernel_28330/3912155046.py\u001b[0m in \u001b[0;36m<module>\u001b[0;34m\u001b[0m\n\u001b[0;32m----> 1\u001b[0;31m \u001b[0mprint\u001b[0m\u001b[0;34m(\u001b[0m\u001b[0mtraining_samples\u001b[0m\u001b[0;34m[\u001b[0m\u001b[0;36m0\u001b[0m\u001b[0;34m]\u001b[0m\u001b[0;34m[\u001b[0m\u001b[0;34m'scene_idx'\u001b[0m\u001b[0;34m]\u001b[0m\u001b[0;34m)\u001b[0m\u001b[0;34m\u001b[0m\u001b[0;34m\u001b[0m\u001b[0m\n\u001b[0m",
      "\u001b[0;31mKeyError\u001b[0m: 'scene_idx'"
     ]
    }
   ],
   "source": [
    "print(training_samples[0]['scene_idx'])"
   ]
  },
  {
   "cell_type": "code",
   "execution_count": 197,
   "metadata": {
    "tags": []
   },
   "outputs": [
    {
     "name": "stdout",
     "output_type": "stream",
     "text": [
      "00000000-0000-0000-0000-000000097011\n"
     ]
    }
   ],
   "source": [
    "print(training_samples[100]['agent_id'])"
   ]
  },
  {
   "cell_type": "code",
   "execution_count": 198,
   "metadata": {
    "tags": []
   },
   "outputs": [
    {
     "name": "stdout",
     "output_type": "stream",
     "text": [
      "(76670,)\n",
      "00000000-0000-0000-0000-000000010222\n"
     ]
    }
   ],
   "source": [
    "# get unique values of Agent ID\n",
    "agent_id_arr = []\n",
    "for i in range(training_samples.shape[0]):\n",
    "    agent_id_arr.append(training_samples[i]['agent_id'])\n",
    "agent_id_df = pd.DataFrame(agent_id_arr)\n",
    "print(agent_id_df[0].unique().shape)\n",
    "print(agent_id_df[0][0])"
   ]
  },
  {
   "cell_type": "code",
   "execution_count": 199,
   "metadata": {
    "tags": []
   },
   "outputs": [
    {
     "name": "stdout",
     "output_type": "stream",
     "text": [
      "(76670,)\n",
      "00010222\n"
     ]
    }
   ],
   "source": [
    "# can replace last with only the last 8 values\n",
    "agent_id_arr = []\n",
    "for i in range(training_samples.shape[0]):\n",
    "    training_samples[i]['agent_id'] = training_samples[i]['agent_id'][-8:]\n",
    "    agent_id_arr.append(training_samples[i]['agent_id'])\n",
    "agent_id_df = pd.DataFrame(agent_id_arr)\n",
    "print(agent_id_df[0].unique().shape)\n",
    "print(agent_id_df[0][0])"
   ]
  },
  {
   "cell_type": "code",
   "execution_count": 200,
   "metadata": {
    "tags": []
   },
   "outputs": [
    {
     "name": "stdout",
     "output_type": "stream",
     "text": [
      "(35225,)\n"
     ]
    }
   ],
   "source": [
    "# for some reason the first track ID is always all 0s, lets remove that\n",
    "track_id_arr = []\n",
    "for i in range(training_samples.shape[0]):\n",
    "    training_samples[i]['track_id'] = np.delete(training_samples[i]['track_id'], 0)\n",
    "    track_id_arr.append(training_samples[i]['track_id'])\n",
    "track_id_df = pd.DataFrame(track_id_arr)\n",
    "print(track_id_df[0].unique().shape)"
   ]
  },
  {
   "cell_type": "code",
   "execution_count": 201,
   "metadata": {
    "tags": []
   },
   "outputs": [
    {
     "name": "stdout",
     "output_type": "stream",
     "text": [
      "(141978,)\n",
      "00000000-0000-0000-0000-000000010045\n"
     ]
    }
   ],
   "source": [
    "# we only need the last 8 values of track ID since the rest are zeros\n",
    "track_id_arr = []\n",
    "for i in range(training_samples.shape[0]):\n",
    "    for j in range(training_samples[i]['track_id'].shape[0]):\n",
    "        track_id_arr.append(training_samples[i]['track_id'][j])\n",
    "track_id_df = pd.DataFrame(track_id_arr)\n",
    "print(track_id_df[0].unique().shape)\n",
    "print(track_id_df[0][0])"
   ]
  },
  {
   "cell_type": "code",
   "execution_count": 202,
   "metadata": {
    "tags": []
   },
   "outputs": [
    {
     "name": "stdout",
     "output_type": "stream",
     "text": [
      "(141978,)\n",
      "00010045\n"
     ]
    }
   ],
   "source": [
    "# lets actually remove them\n",
    "track_id_arr = []\n",
    "for i in range(training_samples.shape[0]):\n",
    "    for j in range(training_samples[i]['track_id'].shape[0]):\n",
    "        training_samples[i]['track_id'][j] = training_samples[i]['track_id'][j][-8:]\n",
    "        track_id_arr.append(training_samples[i]['track_id'][j])\n",
    "track_id_df = pd.DataFrame(track_id_arr)\n",
    "print(track_id_df[0].unique().shape)\n",
    "print(track_id_df[0][0])"
   ]
  },
  {
   "cell_type": "code",
   "execution_count": 203,
   "metadata": {
    "tags": []
   },
   "outputs": [],
   "source": [
    "# import pickle\n",
    "# pickle.dump(training_samples, open(\"training_samples.p\", \"wb\"))\n",
    "# pickle.dump(training_samples, open(\"val_samples.p\", \"wb\"))"
   ]
  },
  {
   "cell_type": "code",
   "execution_count": 234,
   "metadata": {},
   "outputs": [
    {
     "name": "stdout",
     "output_type": "stream",
     "text": [
      "dict_keys(['city', 'lane', 'lane_norm', 'agent_id', 'car_mask', 'p_in', 'v_in', 'p_out', 'v_out', 'track_id'])\n"
     ]
    }
   ],
   "source": [
    "print(training_samples[0].keys())"
   ]
  },
  {
   "cell_type": "code",
   "execution_count": 205,
   "metadata": {
    "tags": []
   },
   "outputs": [
    {
     "name": "stdout",
     "output_type": "stream",
     "text": [
      "(333, 2)\n"
     ]
    }
   ],
   "source": [
    "print(training_samples[0]['lane'].shape)"
   ]
  },
  {
   "cell_type": "code",
   "execution_count": 25,
   "metadata": {},
   "outputs": [
    {
     "ename": "ModuleNotFoundError",
     "evalue": "No module named 'mpl'",
     "output_type": "error",
     "traceback": [
      "\u001b[1;31m---------------------------------------------------------------------------\u001b[0m",
      "\u001b[1;31mModuleNotFoundError\u001b[0m                       Traceback (most recent call last)",
      "Cell \u001b[1;32mIn[25], line 1\u001b[0m\n\u001b[1;32m----> 1\u001b[0m \u001b[38;5;28;01mimport\u001b[39;00m \u001b[38;5;21;01mmpl\u001b[39;00m\n",
      "\u001b[1;31mModuleNotFoundError\u001b[0m: No module named 'mpl'"
     ]
    }
   ],
   "source": [
    "import mpl"
   ]
  },
  {
   "cell_type": "code",
   "execution_count": 35,
   "metadata": {},
   "outputs": [],
   "source": [
    "with open(train_pkl_lst[0], 'rb') as f:\n",
    "    training_sample = pickle.load(f)"
   ]
  },
  {
   "cell_type": "code",
   "execution_count": 39,
   "metadata": {},
   "outputs": [
    {
     "data": {
      "text/plain": [
       "6"
      ]
     },
     "execution_count": 39,
     "metadata": {},
     "output_type": "execute_result"
    }
   ],
   "source": [
    "len(training_sample['track_id'])"
   ]
  },
  {
   "cell_type": "code",
   "execution_count": 44,
   "metadata": {},
   "outputs": [
    {
     "data": {
      "image/png": "[encoded data removed]",
      "text/plain": [
       "<Figure size 640x480 with 1 Axes>"
      ]
     },
     "metadata": {},
     "output_type": "display_data"
    }
   ],
   "source": [
    "plt.scatter(training_sample['lane'][:,0], training_sample['lane'][:,1], alpha=0.5, label = \"Lanes\", color = \"black\")\n",
    "\n",
    "for i in range(len(training_sample['track_id'])):\n",
    "    if training_sample['track_id'][i] == training_sample['agent_id']:\n",
    "        plt.scatter(training_sample['p_in'][i,:,0], training_sample['p_in'][i,:,1], alpha=0.5, label = \"Input Traj\", color = \"red\")\n",
    "        plt.scatter(training_sample['p_out'][i,:,0], training_sample['p_out'][i,:,1], alpha=0.5, label = \"Output Traj\", color = \"blue\")\n",
    "\n",
    "plt.legend()\n",
    "# plt.xticks([])\n",
    "# plt.yticks([])\n",
    "plt.show()"
   ]
  },
  {
   "cell_type": "code",
   "execution_count": 84,
   "metadata": {
    "tags": []
   },
   "outputs": [
    {
     "name": "stdout",
     "output_type": "stream",
     "text": [
      "5\n"
     ]
    },
    {
     "data": {
      "image/png": "[encoded data removed]",
      "text/plain": [
       "<Figure size 640x480 with 1 Axes>"
      ]
     },
     "metadata": {},
     "output_type": "display_data"
    }
   ],
   "source": [
    "# rasterization attempt\n",
    "import math\n",
    "\n",
    "scene_idx = 0\n",
    "\n",
    "training_sample = training_samples[scene_idx]\n",
    "\n",
    "for i in range(len(training_sample['track_id'])):\n",
    "    if training_sample['agent_id'] == training_sample['track_id'][i]:\n",
    "        agent_idx = i\n",
    "        break\n",
    "\n",
    "print(agent_idx)\n",
    "\n",
    "for i, p in enumerate(training_sample['lane']):\n",
    "    angle = math.atan2(training_sample['lane_norm'][i,1], training_sample['lane_norm'][i,0])*180/math.pi\n",
    "    #print((training_samples[scene_idx]['lane_norm'][i], angle))\n",
    "    t = matplotlib.markers.MarkerStyle(marker=0)\n",
    "    t._transform = t.get_transform().rotate_deg(angle)\n",
    "    plt.scatter(training_sample['lane'][i,0], training_sample['lane'][i,1], label=\"lane\", color=\"black\", marker=t, s=100)\n",
    "    \n",
    "\n",
    "\n",
    "for i in range(len(training_sample['track_id'])):\n",
    "    \n",
    "    # normalize velocity\n",
    "    norm = np.linalg.norm(training_sample['v_in'][i]) # Confirm if correct since normalizing 19x2 matrix into scalar\n",
    "    norm_vel = training_sample['v_in'][i] / norm\n",
    "    #print(training_sample['v_in'][i])\n",
    "    #print(np.linalg.norm(training_sample['v_in'][i]))\n",
    "    #print(norm_vel.shape)\n",
    "    #print(norm_vel)\n",
    "    \n",
    "    \n",
    "    if training_sample['track_id'][i] == training_sample['agent_id']:\n",
    "        color = 'blue'\n",
    "    else:\n",
    "        color = 'purple'\n",
    "        \n",
    "    angles = np.degrees(np.arctan2(norm_vel[:, 1], norm_vel[:, 0]))\n",
    "    \n",
    "    for j in range(training_sample['p_in'].shape[1]):\n",
    "        \n",
    "        t = matplotlib.markers.MarkerStyle(marker='_')\n",
    "        size = 5 * norm\n",
    "        \n",
    "        if j == len(training_sample['p_in'][i,:,0]) - 1:\n",
    "            t = matplotlib.markers.MarkerStyle(marker=9)\n",
    "            size = 100\n",
    "        \n",
    "        t._transform = t.get_transform().rotate_deg(angles[j])\n",
    "        plt.scatter(training_sample['p_in'][i,j,0], training_sample['p_in'][i,j,1], label=\"p_in\", color=color, marker=t, s=size)\n",
    "\n",
    "plt.scatter(training_sample['p_in'][agent_idx,:,0], training_sample['p_in'][agent_idx,:,1], label=\"p_in_track\", color=\"blue\", marker=t, s=10)\n",
    "plt.scatter(training_sample['p_out'][agent_idx,:,0], training_sample['p_out'][agent_idx,:,1], label=\"p_out_track\", color=\"red\")\n",
    "\n",
    "    \n",
    "# for i, p in enumerate(training_samples[scene_idx]['p_in']):\n",
    "#     if sum(training_samples[scene_idx]['p_out'][i,:,0])!=0 and sum(training_samples[scene_idx]['p_out'][i,:,1])!=0 and sum(training_samples[scene_idx]['p_in'][i,:,0])!=0 and sum(training_samples[scene_idx]['p_in'][i,:,1])!=0:\n",
    "#         norm_vel = training_samples[scene_idx]['v_in'][i]/np.linalg.norm(training_samples[scene_idx]['v_in'][i])\n",
    "#         print(norm_vel.shape)\n",
    "        \n",
    "#         for j, q in enumerate(training_samples[scene_idx]['p_in'][i,:,0]):\n",
    "#             color = 'purple'\n",
    "#             if i==agent_idx:\n",
    "#                 color = 'blue'\n",
    "#             norm_vel_j = norm_vel[j]/np.linalg.norm(norm_vel[j])\n",
    "#             angle = math.atan2(norm_vel[j, 1], norm_vel[j, 0])*180/math.pi\n",
    "#             print(angle)\n",
    "#             t = matplotlib.markers.MarkerStyle(marker=0)\n",
    "#             size = 50\n",
    "#             if j==len(training_samples[scene_idx]['p_in'][i,:,0])-1:\n",
    "#                 t = matplotlib.markers.MarkerStyle(marker=9)\n",
    "#                 size = 100\n",
    "#             t._transform = t.get_transform().rotate_deg(angle)\n",
    "#             plt.scatter(training_samples[scene_idx]['p_in'][i,j,0], training_samples[scene_idx]['p_in'][i,j,1], label = \"p_in\", color = color, marker=t, s=size)\n",
    "#             # plt.scatter(training_samples[scene_idx]['p_out'][i,:,0], training_samples[scene_idx]['p_out'][i,:,1], label = \"p_out\", color = color)\n",
    "            \n",
    "#         break\n",
    "\n",
    "plt.show()\n"
   ]
  },
  {
   "cell_type": "code",
   "execution_count": null,
   "metadata": {},
   "outputs": [],
   "source": []
  }
 ],
 "metadata": {
  "colab": {
   "provenance": []
  },
  "kernelspec": {
   "display_name": "Python 3 (ipykernel)",
   "language": "python",
   "name": "python3"
  },
  "language_info": {
   "codemirror_mode": {
    "name": "ipython",
    "version": 3
   },
   "file_extension": ".py",
   "mimetype": "text/x-python",
   "name": "python",
   "nbconvert_exporter": "python",
   "pygments_lexer": "ipython3",
   "version": "3.8.16"
  }
 },
 "nbformat": 4,
 "nbformat_minor": 4
}
